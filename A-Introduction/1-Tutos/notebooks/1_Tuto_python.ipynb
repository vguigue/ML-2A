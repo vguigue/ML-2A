{
 "cells": [
  {
   "attachments": {},
   "cell_type": "markdown",
   "metadata": {},
   "source": [
    "# Tutoriel d'introduction à Python\n",
    "\n",
    "Le but de ce tutoriel et de vous donner les clés pour l'usage de l'outil notebook et les bases importantes de python. Il faut passer rapidement dessus, savoir ce qu'il contient pour s'en servir de documentation. La prise en main de numpy dans le notebook suivant est plus importante.\n",
    "\n",
    "**Contenu:**\n",
    "* Variables et types / fonctionnement du notebook\n",
    "  * Découverte par l'exemple des opérateurs\n",
    "* Fonction mathématiques de base\n",
    "* Structures de données en python (liste & dictionnaire)\n",
    "* Boucle et conditionnelle\n",
    "* Définition d'une nouvelle fonction\n",
    "\n",
    "**[Commande de base]** Dans l'environnement notebook, il faut taper SHIFT + RETURN pour exécuter le contenu d'une *boite*\n",
    "\n",
    "**[Autres commandes]** Les menus ci-dessus (associés à des raccourcis claviers) permettent de créer de nouvelles boites, d'en supprimer et de les inverser.\n",
    "\n",
    "Vérifiez toujours que vous êtes en python **3** (en haut à droite) dans le cadre des TME\n",
    "\n",
    "**Exercices** (marqués <span style=\"color:red\"> EXO</span>) Des exercices sont proposés régulièrement dans le notebook pour éviter *l'effet contemplatif* des exemples. Si vous maitrisez déjà les concepts de base et que les solutions vous semblent évidentes, n'héstiez pas à sauter des questions.\n",
    "\n",
    "Tous les exercices sont classés par ordre d'importance:  <span style=\"color:red\"> 1</span>=\"essentiel\", <span style=\"color:red\">2</span>=\"utile, <span style=\"color:red\">3</span>=\"optionnel et/ou avancé\""
   ]
  },
  {
   "attachments": {},
   "cell_type": "markdown",
   "metadata": {},
   "source": [
    "## Types de base python et commande d'affichage\n",
    "Les variables ont un type (entier, réel, etc...), mais ce type est inféré par python et non déclaré"
   ]
  },
  {
   "cell_type": "code",
   "execution_count": null,
   "metadata": {},
   "outputs": [],
   "source": [
    "a = 1 # python sait qu'il s'agit d'un entier, la valeur est stockée dans a\n",
    "print(a) # affichage \n",
    "a = 45 # la valeur précédente est perdue, a vaut maintenant 45\n",
    "print(a) "
   ]
  },
  {
   "cell_type": "code",
   "execution_count": null,
   "metadata": {
    "collapsed": true
   },
   "outputs": [],
   "source": [
    "b = 18.5 # création d'un réel\n",
    "b = b + a # récupération, manipulation, etc...\n",
    "print(b)"
   ]
  },
  {
   "cell_type": "code",
   "execution_count": null,
   "metadata": {},
   "outputs": [],
   "source": [
    "# chaine de caractères: on peut utiliser les \" ou les '\n",
    "s  = \"Bonjour et bienvenu à la formation continue\"\n",
    "s2 = 'une autre chaine'\n",
    "print(s)\n",
    "# une chaine de caractères est un tableau...\n",
    "# récupération du 3ème caractère (Attention, les indices commencent à 0)\n",
    "print(\"Le 3ème caractère est : \", s[2])\n",
    "message = \"tutoriel python\"\n",
    "# affichage formatté\n",
    "print(\"a = {}, mess = {}\".format(a,message))\n",
    "print(\"a \", a, \" \", message)"
   ]
  },
  {
   "attachments": {},
   "cell_type": "markdown",
   "metadata": {},
   "source": [
    "### Principal risque avec les notebooks:\n",
    "\n",
    "La pile python dépend de l'ordre d'execution des boites... Garre aux mauvaises surprises.\n",
    "\n",
    "L'exemple ci-dessous illustre ce risque:<BR>\n",
    "<span style=\"color:red\">(mini) EXO</span>\n",
    "1. exécution de A puis B puis C: affichage = 2\n",
    "1. exécution de B puis A puis C OU A puis B puis de nouveau A puis C: affichage = 1"
   ]
  },
  {
   "cell_type": "code",
   "execution_count": null,
   "metadata": {},
   "outputs": [],
   "source": [
    "# boite A\n",
    "v=1"
   ]
  },
  {
   "cell_type": "code",
   "execution_count": null,
   "metadata": {},
   "outputs": [],
   "source": [
    "# boite B\n",
    "v=2"
   ]
  },
  {
   "cell_type": "code",
   "execution_count": null,
   "metadata": {},
   "outputs": [],
   "source": [
    "# boite C\n",
    "print(v)"
   ]
  },
  {
   "attachments": {},
   "cell_type": "markdown",
   "metadata": {},
   "source": [
    "### Vérifier que vous maitrisez l'environnement\n",
    "\n",
    "<span style=\"color:red\">mini EXO</span>\n",
    "\n",
    "1. Créer une nouvelle boite de code immédiatement en dessous de celle-ci\n",
    "1. Créer une nouvelle variable (e.g. `toto`) et lui affecter une valeur (e.g. `5.5`)\n",
    "1. Afficher la valeur (`print`)"
   ]
  },
  {
   "attachments": {},
   "cell_type": "markdown",
   "metadata": {},
   "source": [
    "### Les fonctions mathématiques avancées\n",
    "\n",
    "Pour plus d'informations:\n",
    "* https://docs.python.org/3/library/math.html\n",
    "* https://docs.python.org/3/library/random.html\n",
    "\n",
    "**ATTENTION:** ces fonctions sont très utiles... Mais très rapidement, nous allons travailler dans l'univers ```numpy``` où les fonctions mathématiques sont redéfinies.\n",
    "\n",
    "1. Passer rapidement sur la boite ci-dessous\n",
    "1. Noter dans un coin de votre tête l'usage de ces fonctions\n",
    "1. Se rappeler que dans la suite de l'UE, les fonctions random, cos, sin, ... seront celles de numpy et pas celles du python de base.\n",
    "\n",
    "Les tutoriels sont donc assez denses et demandent de la prise de recul pour ne pas s'emmêler entre les différentes bibliothèques."
   ]
  },
  {
   "cell_type": "code",
   "execution_count": null,
   "metadata": {},
   "outputs": [],
   "source": [
    "# récupération de valeurs et opérateurs spécifiques\n",
    "# ... Pour lesquels il faut charger des bibliothèques spécifiques (cf plus loin, section sur les différentes formes d'import)\n",
    "import math \n",
    "\n",
    "print(math.pi)\n",
    "theta = math.pi/3 # une variable comme une autre, nous sommes libre du choix des variables\n",
    "print(math.cos(theta))\n",
    "\n",
    "# générer des nombres aléatoires\n",
    "import random\n",
    "r = random.random() # entre 0 et 1\n",
    "print(r)\n",
    "r2 = random.randint(2, 33) # entre 2 et 33 (inclus des deux cotés)\n",
    "print(r2)"
   ]
  },
  {
   "attachments": {},
   "cell_type": "markdown",
   "metadata": {},
   "source": [
    "## <span style=\"color:red\">EXO (1) Déclaration de variables et print</span>\n",
    "\n",
    "Ecrivez un script dans la boite suivante et qui déclare successivement des variables ```nom``` et ```age``` et qui affiche un récapitulatif des informations fournies ainsi que l'année des 20 ans de l'utilisateur."
   ]
  },
  {
   "cell_type": "code",
   "execution_count": null,
   "metadata": {},
   "outputs": [],
   "source": [
    "# réponse (3 lignes simples)\n",
    "#  TODO "
   ]
  },
  {
   "attachments": {},
   "cell_type": "markdown",
   "metadata": {},
   "source": [
    "### Les listes et les dictionnaires\n",
    "\n",
    "Les listes et dictionnaires jouent un role très important en python, nous allons étudier cela maintenant\n",
    "\n",
    "Toutes les informations sur: https://docs.python.org/3/tutorial/datastructures.html"
   ]
  },
  {
   "cell_type": "code",
   "execution_count": null,
   "metadata": {
    "collapsed": true
   },
   "outputs": [],
   "source": [
    "# création d'une liste:\n",
    "maliste = [] # equivalent de maliste = list()\n",
    "print(maliste)\n",
    "# ajout d'un élément\n",
    "maliste.append(12)\n",
    "# fusion de deux listes\n",
    "listefus = maliste + [4, 6, 8]\n",
    "print(listefus)\n",
    "# récupération de la longueur d'une liste:\n",
    "print(len(listefus))\n",
    "# modification d'une valeur dans la liste:\n",
    "listefus[0] = -1\n",
    "print(listefus)\n",
    "# suppression d'une valeur dans la liste (par indice)\n",
    "listefus.pop(1)\n",
    "print(listefus)\n",
    "# suppression d'une valeur dans la liste (par valeur)\n",
    "listefus.remove(8)\n",
    "print(listefus)"
   ]
  },
  {
   "cell_type": "code",
   "execution_count": null,
   "metadata": {
    "collapsed": true
   },
   "outputs": [],
   "source": [
    "# Opérateur sur les listes\n",
    "print(sum(listefus))\n",
    "# trouver tous les éléments uniques d'une liste => créer un set (= ensemble de valeur unique)\n",
    "print(set([2,15,3,9,2,15,15,15]))\n",
    "# ordonner\n",
    "li = [2,15,3,9,2,15,15,15]\n",
    "li.sort()\n",
    "print(li)\n",
    "# compter un élément d'une liste:\n",
    "print([2,15,3,9,2,15,15,15].count(15))"
   ]
  },
  {
   "attachments": {},
   "cell_type": "markdown",
   "metadata": {},
   "source": [
    "### Dictionnaire\n",
    "\n",
    "Le dictionnaire est une structure de données importante. En python, elle est même centrale. L'idée est d'associer une clé et une valeur\n",
    "```\n",
    "clé 1 => valeur 1\n",
    "clé 2 => valeur 2\n",
    "etc...\n",
    "```\n",
    "\n",
    "C'est une manière élégante de stocker des informations. On peut ajouter des clés (en écriture), modifier la valeur associée à une clé (toujours en écriture) ou lire la valeur associée à une clé (lecture)"
   ]
  },
  {
   "cell_type": "code",
   "execution_count": null,
   "metadata": {
    "collapsed": true
   },
   "outputs": [],
   "source": [
    "# dictionnaire = table de hash\n",
    "# construction\n",
    "mondico = {'champ1': 23, 'champ2': [12, 9.5]}\n",
    "# Récupération d'une valeur\n",
    "print(mondico['champ1'])\n",
    "# ajout d'un champ\n",
    "mondico['champ3'] = 65\n",
    "print(mondico)"
   ]
  },
  {
   "attachments": {},
   "cell_type": "markdown",
   "metadata": {},
   "source": [
    "## <span style=\"color:red\"> EXO (2) Créer un dictionnaire de traduction </span>"
   ]
  },
  {
   "cell_type": "code",
   "execution_count": null,
   "metadata": {},
   "outputs": [],
   "source": [
    "# 1. construction du dictionnaire contenant les mots français en clé et anglais en valeur:\n",
    "# \"le\", \"chat\", \"est\", \"sur\", \"la\", \"table\" => \"the\" \"cat\" \"is\" \"on\" \"the\" \"table\"\n",
    "# definition de trad\n",
    "\n",
    "#  TODO \n",
    "\n",
    "# 2. affichage de la traduction mot à mot \n",
    "print(trad['le']) # si la structure trad est bien définie précédemment\n",
    "\n",
    "# Soit la phrase suivante:\n",
    "phrase = \"le chat est sur la table\"\n",
    "# Afficher la traduction mot à mot à l'aide d'une boucle\n",
    "#  TODO \n"
   ]
  },
  {
   "attachments": {},
   "cell_type": "markdown",
   "metadata": {},
   "source": [
    "## Boucles et tests\n",
    "\n",
    "Pour écrire des algorithmes, nous devons faire des boucles sur des structures de données et tester des grandeurs...\n",
    "\n",
    "Pas d'accolades en python: les blocs de code sont délimités par des tabulations (ou 4 espaces)."
   ]
  },
  {
   "cell_type": "code",
   "execution_count": null,
   "metadata": {},
   "outputs": [],
   "source": [
    "# Comment marche un if\n",
    "i=0\n",
    "if i<30:\n",
    "    i = i + 10;\n",
    "    print(\"i est inferieur a trente\")\n",
    "else:   # le else est toujours optionnel et sans clause\n",
    "    print(\"i est superieur a trente\")\n",
    "\n",
    "i=0\n",
    "if i==1:\n",
    "    print(\"cas 1\")\n",
    "elif i==2:    # elif = très pratique pour distinguer différents cas de figures (plus de 2)\n",
    "    print(\"cas 2\")\n",
    "elif i==3:\n",
    "    print(\"cas 3\")"
   ]
  },
  {
   "cell_type": "code",
   "execution_count": null,
   "metadata": {},
   "outputs": [],
   "source": [
    "# le risque avec les références:\n",
    "l1 = [1,2]\n",
    "l2 = l1\n",
    "l2[0] = 3 # modification de l2\n",
    "print(l1) # => Modification de l1 ==> NE PAS confondre les types de base et les objets (cf à la fin)"
   ]
  },
  {
   "cell_type": "code",
   "execution_count": null,
   "metadata": {
    "collapsed": true
   },
   "outputs": [],
   "source": [
    "# Construction d'un boucle for:\n",
    "for i in range(10): # sol 1: range => i va prendre les valeurs entre 0 et 9\n",
    "    print(i) # ATTENTION: l'indentation donne la portée de la boucle\n",
    "print('===') # je suis sorti de la boucle (parce que mon code est revenu à gauche)\n",
    "# vous pouvez tester le décalage de cette dernière commande pour voir la différence\n",
    "\n",
    "li = [12, 43, 90, 1, 6] \n",
    "for i in li:        # sol 2: parcours des valeurs d'une liste\n",
    "    print(i)"
   ]
  },
  {
   "cell_type": "code",
   "execution_count": null,
   "metadata": {
    "collapsed": true
   },
   "outputs": [],
   "source": [
    "# les autres boucles\n",
    "i = 0\n",
    "while i<10: # tant que i inférieur à 10\n",
    "    i = i+1\n",
    "    print(i)"
   ]
  },
  {
   "attachments": {},
   "cell_type": "markdown",
   "metadata": {},
   "source": [
    "## <span style=\"color:red\"> EXO(1) Créer et afficher une liste contenant les entiers de 1 à 20 </span>"
   ]
  },
  {
   "cell_type": "code",
   "execution_count": null,
   "metadata": {},
   "outputs": [],
   "source": [
    "# 1. construction de la liste python\n",
    "#  TODO \n",
    "# 2. Affichage de la liste\n",
    "\n",
    "# 3. Affichage des seuls entiers de la liste qui sont divisibles par 3 (travail sur if + usage du modulo)\n"
   ]
  },
  {
   "attachments": {},
   "cell_type": "markdown",
   "metadata": {},
   "source": [
    "## <span style=\"color:red\"> EXO(1)  Créer et afficher les 10 premiers termes de la série de Fibonacci\n",
    "    * Conditions initiles : u[0] = 1, u[1] = 1\n",
    "    *  u[n] = u[n-2] + u[n-1]\n",
    "Test sur l'usage de la boucle ```for``` et la réutilisation des variables\n",
    "\n",
    "Initialiser $u_t$ et $u_{t+1}$, faire les premiers affichages, rentrer dans la boucle et itérer le processus."
   ]
  },
  {
   "cell_type": "code",
   "execution_count": null,
   "metadata": {},
   "outputs": [],
   "source": [
    "# 1. Initialisation\n",
    "#  TODO \n",
    "# 2. Itération du processus"
   ]
  },
  {
   "attachments": {},
   "cell_type": "markdown",
   "metadata": {},
   "source": [
    "## <span style=\"color:red\"> EXO(2)  Créer un script qui affiche tous les diviseurs d'un nombre\n",
    "\n",
    "Rappel: la fonction modulo (```a % b```) donne le reste de la division euclidienne entre ```a``` et ```b```. Si ```a % b == 0``` alors ```b``` divise ```a```."
   ]
  },
  {
   "cell_type": "code",
   "execution_count": null,
   "metadata": {},
   "outputs": [],
   "source": [
    "nombre = 12\n",
    "\n",
    "#  TODO \n",
    "\n",
    "# Résultat attendu : 12, 6, 4, 3, 2, 1"
   ]
  },
  {
   "attachments": {},
   "cell_type": "markdown",
   "metadata": {},
   "source": [
    "## Opérateurs logiques\n",
    "\n",
    "Les opérateurs logiques sont la clé pour faire des clauses complexes et donc traiter des cas non triviaux."
   ]
  },
  {
   "cell_type": "code",
   "execution_count": null,
   "metadata": {
    "collapsed": true
   },
   "outputs": [],
   "source": [
    "print(True and False)\n",
    "# False\n",
    "print(not False)\n",
    "# True\n",
    "print(True or False)\n",
    "# True"
   ]
  },
  {
   "attachments": {},
   "cell_type": "markdown",
   "metadata": {},
   "source": [
    "## <span style=\"color:red\"> EXO(1)  Quelle saison?\n",
    "\n",
    "Etant donné une variable jour et une variable mois (toutes les deux entières), indiquer la saison dans laquelle nous nous trouvons.\n",
    "Afin de valider votre programme, vous testerez des cas faciles (e.g. mois=1,jour=1) et des cas plus délicats (e.g. mois=2, jour=25 ou mois=12,jour=27)\n",
    "\n",
    "Le but est de travailler sur les `if`, `else`, `elif` et sur les clauses complexes avec `and` et `or`\n",
    "\n",
    "**Note de simplification:** on considère que les saisons changent toujours les 21 mars, 21 juin, 21 septembre et 21 décembre."
   ]
  },
  {
   "cell_type": "code",
   "execution_count": null,
   "metadata": {},
   "outputs": [],
   "source": [
    "jour = 1\n",
    "mois = 1\n",
    "\n",
    "# afficher la saison\n",
    "#  TODO "
   ]
  },
  {
   "attachments": {},
   "cell_type": "markdown",
   "metadata": {},
   "source": [
    "## Les boucles de compréhension\n",
    "\n",
    "On peut s'amuser à créer des boucles directement dans les listes\n",
    "\n",
    "  (1) C'est assez illisible et pas recommandé dans un premier temps\n",
    "  \n",
    "  (2) C'est très rapide en python par rapport à une boucle traditionnelle: on s'en sert régulièrement ensuite."
   ]
  },
  {
   "cell_type": "code",
   "execution_count": null,
   "metadata": {},
   "outputs": [],
   "source": [
    "# création de listes en utilisant des boucles imbriquées:\n",
    "a = [n for n in range(10)]\n",
    "m = [[n+m*10 for n in range(5)] for m in range(5)]\n",
    "print(a)\n",
    "print(m)\n",
    "\n",
    "# les creations complexes... Par exemple: tous les entiers jusqu'à 20 sauf ceux qui divisent 2 ou 3\n",
    "a = [n for n in range(20) if n%2 != 0 or n%3 !=0]\n",
    "print(a)"
   ]
  },
  {
   "attachments": {},
   "cell_type": "markdown",
   "metadata": {},
   "source": [
    "## Définition de nouvelle fonction\n",
    "\n",
    "Pour pouvoir refaire plusieurs fois des opérations complexes, il faut factoriser le code dans une fonction puis faire appel à cette fonction plusieurs fois.\n",
    "\n",
    "Par exemple, le calcul d'un angle entre 2 vecteurs en 2 dimensions:\n",
    "$$ \\widehat{\\vec{u},\\vec{v}} = \\text{acos}\\left (\\frac{\\vec{u}\\cdot \\vec{v}}{\\|\\vec{u}\\|\\|\\vec{v}\\|}\\right), \\qquad \\vec{u}\\cdot \\vec{v} = u_{x}v_{x} + u_{y}v_{y}, \\qquad \\|\\vec{u}\\| = \\sqrt{u_{x}u_{x} + u_{y}u_{y}}$$"
   ]
  },
  {
   "cell_type": "code",
   "execution_count": null,
   "metadata": {},
   "outputs": [],
   "source": [
    "# travail amont : bien identifier les entrées et les sorties\n",
    "# je veux travailler sur deux vecteurs (qui seront ici des listes de 2 valeurs)\n",
    "def calcul_angle(u, v):\n",
    "    \"\"\"                  \n",
    "    Manuel de la fonction\n",
    "    ARG: u et v dans R^2. list u = [ux, uy], list v = [vx, vy]\n",
    "    Calcul de l'angle entre le vecteur u et le vecteur v. \n",
    "    \"\"\"\n",
    "    return math.acos( (u[0]*v[0]+u[1]*v[1]) / (math.sqrt(u[0]*u[0]+u[1]*u[1]) * math.sqrt(v[0]*v[0]+v[1]*v[1])))\n",
    "\n",
    "# test\n",
    "print(calcul_angle([0,1], [2, 0]))\n",
    "\n",
    "help(calcul_angle)"
   ]
  },
  {
   "attachments": {},
   "cell_type": "markdown",
   "metadata": {},
   "source": [
    "## <span style=\"color:red\"> EXO(1)  Créer une fonction stochastique\n",
    "\n",
    "Vous devez créer une fonction (avec le mot-clé ```def```) qui ne prend pas d'argument et qui a un comportement potentiellement différent à chaque exécution (stochastique).\n",
    "Cette fonction utilisera ```random``` pour afficher:\n",
    "* \"Boujour\" une fois sur 3 (en moyenne)\n",
    "* \"Au revoir\" deux fois sur 3 (en moyenne)\n",
    "\n",
    "Tester 10 fois cette fonction\n"
   ]
  },
  {
   "cell_type": "code",
   "execution_count": null,
   "metadata": {},
   "outputs": [],
   "source": [
    "# 0. import de la bibliothèque\n",
    "import random\n",
    "\n",
    "# 1. Définition de la fonction\n",
    "\n",
    "#  TODO \n",
    "\n",
    "# 2. Appel à la fonction 10 fois dans une boucle"
   ]
  },
  {
   "attachments": {},
   "cell_type": "markdown",
   "metadata": {},
   "source": [
    "## <span style=\"color:red\"> EXO(1) Créer une fonction avec des arguments par défaut\n",
    "\n",
    "C'est pratique d'avoir une fonction (avec le mot-clé ```def```) qui possède des arguments par défaut: si on ne les mentionne pas, ils prennent une valeur pré-définie.\n",
    "\n",
    "Définir la fonction ```affichage``` qui prend en argument ```nIter=10``` (argument ```nIter``` avec la valeur par défaut ```10```). Cette fonction affichera tous les entiers de $0$ à ```nIter```.\n"
   ]
  },
  {
   "cell_type": "code",
   "execution_count": null,
   "metadata": {},
   "outputs": [],
   "source": [
    "# 1. Définition de la fonction avec un argument possèdant une valeur par défaut\n",
    "def affichage(nIter=10):\n",
    "    # A COMPLETER\n",
    "    #  TODO \n",
    "# 2. Invocations\n",
    "affichage(5) # résultat attendu: 0 1 2 3 4 5 \n",
    "print(\"==========\")\n",
    "affichage()  # résultat attendu: 0 1 2 3 4 5 6 7 8 9 10"
   ]
  },
  {
   "attachments": {},
   "cell_type": "markdown",
   "metadata": {},
   "source": [
    "### Le piège des variables globales dans les fonctions\n",
    "\n",
    "Les variables globales permettent d'aller très vite... Mais elles sont la causes de bugs réellement inextricables. Les cas de figures suivants illustrent les situations à proscrire.\n",
    "\n",
    "**Règles à respecter:**\n",
    "1. Les fonctions permettent d'éviter les copier-coller de code... Elles sont essentielles.\n",
    "1. Une fonction doit être réutilisable sans se poser de question et sans dépendre de valeurs *cachées*\n",
    "1. Il faut tracker les variables globales dans vos fonctions et les éliminer systématiquement"
   ]
  },
  {
   "cell_type": "code",
   "execution_count": null,
   "metadata": {},
   "outputs": [],
   "source": [
    "# Ce que vous n'avez pas le droit de faire !!!\n",
    "# \n",
    "\n",
    "glob = 2\n",
    "def mafonction(a):\n",
    "    return a*glob\n",
    "\n",
    "print(mafonction(4))\n",
    "glob = 3\n",
    "print(mafonction(4))"
   ]
  },
  {
   "attachments": {},
   "cell_type": "markdown",
   "metadata": {},
   "source": [
    "## Les différentes formes d'import\n",
    "\n",
    "```import``` = récupération de fonctions existantes (math, algorithmes, ...)\n",
    "\n",
    "On déclare en général les ```import``` en début de script"
   ]
  },
  {
   "cell_type": "code",
   "execution_count": null,
   "metadata": {},
   "outputs": [],
   "source": [
    "# cas 1: import de tout le module (=package de fonction)\n",
    "# invocation de la méthode = rappel du module d'où elle vient\n",
    "\n",
    "import math\n",
    "\n",
    "print(math.sin(math.pi)) # résultat surprenant :)\n",
    "print(math.cos(math.pi/3)) "
   ]
  },
  {
   "cell_type": "code",
   "execution_count": null,
   "metadata": {},
   "outputs": [],
   "source": [
    "# cas 2: import d'une fonction dans un module\n",
    "# usage = appel direct\n",
    "\n",
    "from math import sqrt\n",
    "\n",
    "print(sqrt(2)) # pas besoin de math.sqrt"
   ]
  },
  {
   "attachments": {},
   "cell_type": "markdown",
   "metadata": {},
   "source": [
    "## Usage de fonctions définies dans un fichier .py\n",
    "\n",
    "Il est possible de mixer du python classique avec un usage notebook. Celà devient même essentiel quand les programmes se complexifient.\n",
    "\n",
    "1. Avec n'importe quel éditeur de texte brut (emacs, gedit, notepad,...), créer le fichier `mesfonctions.py` contenant le code suivant:\n",
    "```python\n",
    "# fichier mesfonctions.py\n",
    "def gererate_ones(n):\n",
    "    return [1]*n # une liste de 1 de taille n\n",
    "```\n",
    "2. Sauver le fichier `mesfonctions.py dans le même répertoire que le notebook\n",
    "3. Exécuter le code de la boite ci-dessous"
   ]
  },
  {
   "cell_type": "code",
   "execution_count": null,
   "metadata": {},
   "outputs": [],
   "source": [
    "from mesfonctions import *\n",
    "\n",
    "a = gererate_ones(12)\n",
    "print(a)"
   ]
  },
  {
   "attachments": {},
   "cell_type": "markdown",
   "metadata": {},
   "source": [
    "# Type de base *vs* objets (concepts avancés)\n",
    "\n",
    "\n",
    "La programmation objet et les pointeurs sont des concepts avancés en programmation... On les utilise cependant implicitement dès qu'on commence à programmer. Les concepts suivants sont donc difficiles à appréhender et un peu hors du programme de l'UE: c'est cependant un aspect critique dans tout projet de programamtion. "
   ]
  },
  {
   "cell_type": "code",
   "execution_count": null,
   "metadata": {},
   "outputs": [],
   "source": [
    "# ATTENTION, les listes sont des objets != type de base:\n",
    "a = 2\n",
    "b = a  # toute affectation est une copie \n",
    "a = 18 # aucun impact sur b => il n'y a pas de piège\n",
    "print(a,b)\n",
    "\n",
    "li_a = [2, 4, 6, 8]\n",
    "li_b = li_a # il n'y a qu'une liste... partagée entre deux variables\n",
    "li_b.append(12) # modification de l'objet partagé\n",
    "print(li_a)\n",
    "\n",
    "# Pour eviter cela\n",
    "li_c = li_a.copy()\n",
    "li_c.append(42)\n",
    "print(li_a) # li_a inchangée"
   ]
  },
  {
   "cell_type": "code",
   "execution_count": null,
   "metadata": {},
   "outputs": [],
   "source": [
    "#Egalité référentielle\n",
    "l1 = l2 = [1,2]\n",
    "# ou bien\n",
    "l1 = [1,2]\n",
    "l2 = l1\n",
    "\n",
    "print(l1 is l2) # True\n",
    "\n",
    "# ou bien\n",
    "l1 = [1,2]\n",
    "l2 = [1,2]\n",
    "\n",
    "print(l1 is l2) # False\n",
    "\n",
    "# appartenance à une liste\n",
    "a = 12\n",
    "li = [8,10,12,14]\n",
    "if a in li:\n",
    "    print(\"trouvé !\")"
   ]
  },
  {
   "attachments": {},
   "cell_type": "markdown",
   "metadata": {},
   "source": [
    "### Types de bases VS objets... Dans les fonctions\n",
    "\n",
    "Le phénomène évoqué plus haut sur les différences de comportements entre type de base et objet se retrouve dans les fonctions.\n",
    "* Une variable contenant un type de base ne peut pas être modifiée dans une fonction. \n",
    "* Une variable référencant un objet peut tout à fait entrainer une altération dudit objet.\n",
    "\n",
    "<span style=\"color:red\"> Explication rapide (et **hors programme**):</span> à chaque affectation (e.g. passage dans une fonction ou dans une nouvelle variable), les valeurs des types de base sont copiées. Tant qu'on ne met pas de nouvelle valeur dans la variable, celle-ci ne peut pas être modifiées.\n",
    "A l'inverse, un objet possède des méthodes pour le modifier... Et un objet est potentiellement volumineux. Afin de gagner du temps, lorsqu'on passe un objet dans une fonction, il n'est pas copié: on travaille toujours sur lui... Il peut donc être modifié."
   ]
  },
  {
   "cell_type": "code",
   "execution_count": null,
   "metadata": {},
   "outputs": [],
   "source": [
    "# très intéressant mais difficile et hors programme\n",
    "# CAS 1: type de base\n",
    "# code mystère: pouvez-vous prédire ce qui va se passer?\n",
    "def modif_1(a):\n",
    "    a = 2\n",
    "    return\n",
    "\n",
    "i = 5\n",
    "modif_1(i)\n",
    "print(i)"
   ]
  },
  {
   "cell_type": "code",
   "execution_count": null,
   "metadata": {},
   "outputs": [],
   "source": [
    "# très intéressant mais difficile et hors programme\n",
    "# # CAS 2: objet\n",
    "# code mystère: pouvez-vous prédire ce qui va se passer?\n",
    "def modif_2(a):\n",
    "    a.append(6)\n",
    "    return\n",
    "\n",
    "i = [5]\n",
    "modif_2(i)\n",
    "print(i)"
   ]
  },
  {
   "attachments": {},
   "cell_type": "markdown",
   "metadata": {},
   "source": [
    "# <span style=\"color:red\"> EXO(3)  Exercices supplémentaires (à la maison, pas dans la séance) </span>\n",
    "\n",
    "Afin de vérifier que vous maitrisez les bases de python et avant de passer à numpy, nous allons vous demander de faire quelques petits exercices de validation.\n",
    "\n"
   ]
  },
  {
   "attachments": {},
   "cell_type": "markdown",
   "metadata": {},
   "source": [
    "## Créer une fonction qui estime la valeur de la racine carrée de x en utilisant la suite de Newton:\n",
    "\n",
    "L'algorithme, assez proche de la suite de fibonacci, est défini comme suit:\n",
    "\n",
    "1. u_0 = x/2, u_t = (u_t−1 + x / u_t−1)/2\n",
    "1. cette fonction prendra en argument le nombre d'itérations à effectuer\n",
    "1. tester cette fonction sur plusieurs valeurs et vérifier vos résultats avec math.sqrt(x)\n"
   ]
  },
  {
   "cell_type": "code",
   "execution_count": null,
   "metadata": {},
   "outputs": [],
   "source": [
    "# 0. import de la bibliothèque nécessaire (une fois est suffisante pour tout le notebook)\n",
    "import math\n",
    "\n",
    "# 1. Définition de la fonction qui prend en argument le nombre d'itération à effectuer + implémentation de l'algorithme\n",
    "\n",
    "# 2. Appel à la fonction + comparaison avec la valeur calculée par la méthode python\n",
    "#  TODO \n"
   ]
  },
  {
   "attachments": {},
   "cell_type": "markdown",
   "metadata": {},
   "source": [
    "## Construction d'une liste de notes d'étudiants (50 notes entre 0 et 20):\n",
    "\n",
    "* Génération à l'aide de la fonction: ```random.randint(min, max)``` \n",
    "* Création d'une nouvelle liste comptant combien de note de chaque niveau apparaissent dans la liste (table de contingence)\n",
    "* Création d'une troisième liste contenant toutes les notes supérieures à 10\n",
    "    \n",
    "Affichage des deux listes et vérification\n",
    "\n",
    "Exercice sur la gestion des listes et des boucles."
   ]
  },
  {
   "cell_type": "code",
   "execution_count": null,
   "metadata": {},
   "outputs": [],
   "source": [
    "#  TODO \n"
   ]
  },
  {
   "attachments": {},
   "cell_type": "markdown",
   "metadata": {},
   "source": [
    "# Fabrication du sujet à partir de la correction"
   ]
  },
  {
   "cell_type": "code",
   "execution_count": 1,
   "metadata": {},
   "outputs": [],
   "source": [
    "import re\n",
    "# transformation de cet énoncé en version étudiante\n",
    "\n",
    "fname = \"1_Tuto_python-corr.ipynb\" # ce fichier\n",
    "fout  = fname.replace(\"-corr\",\"\")\n",
    "\n",
    "# print(\"Fichier de sortie: \", fout )\n",
    "\n",
    "f = open(fname, \"r\")\n",
    "txt = f.read()\n",
    " \n",
    "f.close()\n",
    "\n",
    "\n",
    "f2 = open(fout, \"w\")\n",
    "f2.write(re.sub(\" TODO )\",\" TODO \",\\\n",
    "    txt, flags=re.DOTALL))\n",
    "f2.close()\n",
    "\n"
   ]
  },
  {
   "cell_type": "code",
   "execution_count": null,
   "metadata": {},
   "outputs": [],
   "source": []
  }
 ],
 "metadata": {
  "kernelspec": {
   "display_name": "Python 3.9.7 ('base')",
   "language": "python",
   "name": "python3"
  },
  "language_info": {
   "codemirror_mode": {
    "name": "ipython",
    "version": 3
   },
   "file_extension": ".py",
   "mimetype": "text/x-python",
   "name": "python",
   "nbconvert_exporter": "python",
   "pygments_lexer": "ipython3",
   "version": "3.9.7"
  },
  "vscode": {
   "interpreter": {
    "hash": "902a52bcf4503a473db011f1937bdfe17613b08622219712e0110e48c4958c23"
   }
  }
 },
 "nbformat": 4,
 "nbformat_minor": 2
}
