{
 "cells": [
  {
   "attachments": {},
   "cell_type": "markdown",
   "metadata": {},
   "source": [
    "# Tutoriel numpy pour la création et la manipulation de base des matrices\n",
    "\n",
    "Une fois la base de python acquise, nous nous intéressons à la bibliothèque de calcul matriciel sur laquelle va reposer une bonne part des TP à venir. Cette bibliothèque s'appelle numpy.\n",
    "\n",
    "Ce choix implique néanmoins plusieurs difficultés dont vous devez avoir conscience afin mieux les appréhender.\n",
    "\n",
    "1. Les opérateurs de haut niveau ont parfois un comportement *magique*: toute ligne de code doit impérativement être comprise en profondeur par tous, il n'est pas acceptable de *tatonner jusqu'à ce que la syntaxe soit correcte*\n",
    "1. Pour accéder à ```numpy```, il faut passer par python... Ce qui implique de maitriser les deux syntaxes (au moins a minima). \n",
    "1. En plus de la maitrise minimum, il faut éviter les confusions: les listes python sont très proches des vecteurs ```numpy```... Mais les fonctions disponibles dessus sont différentes.\n",
    "\n",
    "\n",
    "**Rappel:**\n",
    "\n",
    "Pour executer une cellule : Shift + Entrée\n",
    "\n",
    "**Exercices** (marqués <span style=\"color:red\"> EXO</span>) Des exercices sont proposés régulièrement dans le notebook pour éviter *l'effet contemplatif* des exemples. Si vous maitrisez déjà les concepts de base et que les solutions vous semblent évidentes, n'héstiez pas à sauter des questions.\n",
    "\n",
    "Tous les exercices sont classés par ordre d'importance:  <span style=\"color:red\"> 1</span>=\"essentiel\", <span style=\"color:red\">2</span>=\"utile, <span style=\"color:red\">3</span>=\"optionnel et/ou avancé\""
   ]
  },
  {
   "cell_type": "code",
   "execution_count": null,
   "metadata": {},
   "outputs": [],
   "source": [
    "# gestion des bibliothèques externes\n",
    "import numpy as np\n",
    "import matplotlib.pyplot as plt\n",
    "print(\"Import OK\") # affichage en fin de boite pour visualiser que l'exécution a bien eu lieue"
   ]
  },
  {
   "attachments": {},
   "cell_type": "markdown",
   "metadata": {},
   "source": [
    "## Créations de matrice par différentes méthodes\n",
    "\n",
    "**Approche 1:** utiliser les méthodes de ```numpy``` pour créer des matrices spéciales:\n",
    "\n",
    "  * [1, 2, 3, ...] (=arange)\n",
    "  * [0, 0, 0, ...] (=zeros)\n",
    "  * [1, 1, 1, ...] (=ones)\n",
    "\n",
    "Le but n'est pas d'apprendre *par coeur* toutes les méthodes mais de comprendre la philosophie de l'outil et de savoir revenir chercher les informations quand c'est nécessaire.\n",
    "Vous allez petit à petit apprendre ces fonctions à force de les utiliser.\n",
    "\n",
    "**Approche 2:** travailler en python avec des listes puis passer dans ```numpy``` à l'aide d'un *constructeur* de matrice\n",
    "\n",
    "**Approche 3:** charger les valeurs numériques d'un fichier dans une matrice ```numpy```\n",
    "\n",
    "\n",
    "Dans toutes les boites suivantes:\n",
    "\n",
    "1. Exécuter les boites\n",
    "1. Jouer avec les arguments de construction pour comprendre l'impact en ré-exécutant les boites.\n",
    "\n"
   ]
  },
  {
   "cell_type": "code",
   "execution_count": null,
   "metadata": {
    "collapsed": true
   },
   "outputs": [],
   "source": [
    "# Approche 1\n",
    "# Création de vecteurs\n",
    "v1 = np.arange(0, 10, 1) # create a range\n",
    "                         # arguments: start, stop, step\n",
    "\n",
    "v1 = np.arange(0, 10)    # with default step=1\n",
    "v1 = np.arange(10)       # default start=0\n",
    "print(v1)\n"
   ]
  },
  {
   "cell_type": "code",
   "execution_count": null,
   "metadata": {},
   "outputs": [],
   "source": [
    "# Vecteur de 15 dimensions dont les valeurs sont entre 0 et 10 inclus\n",
    "v2 = np.linspace(0, 10, 15) # avec linspace, le début et la fin SONT inclus\n",
    "print(v2)"
   ]
  },
  {
   "cell_type": "code",
   "execution_count": null,
   "metadata": {},
   "outputs": [],
   "source": [
    "v3 = np.ones(5)\n",
    "print(v3)\n",
    "\n",
    "m1 = np.ones((10,2))  # matrice de 1, argument = nuplet avec les dimensions\n",
    "                      # ATTENTION np.ones(10,2) ne marche pas. \n",
    "                      # Philosophie = toujours 1 argument, qui peut être un tuple pour créer plusieurs dimensions\n",
    "print(m1)\n",
    "\n",
    "m2 = np.zeros((5,4))  # matrice de 0\n",
    "m3 = np.eye(4)        # matrice identité carrée, arg = dimension\n",
    "print(m3)\n",
    "\n",
    "m4 = np.random.rand(5,6)  # matrice de nombres aléatoires indépendants entre 0 et 1, args = dimensions\n",
    "                          # ATTENTION philosophie+syntaxe différentes de ones/zeros\n",
    "print(m4)"
   ]
  },
  {
   "cell_type": "code",
   "execution_count": null,
   "metadata": {
    "collapsed": false,
    "scrolled": true
   },
   "outputs": [],
   "source": [
    "# approche 2: passage de python classique à numpy\n",
    "\n",
    "# Création de matrices\n",
    "mpy = [[1, 2], [3, 4]]     # matrice python = liste de liste\n",
    "print(\"matrice python: \", mpy)                         \n",
    "# test naïf:\n",
    "print(mpy + 1) # => ERREUR, on ne peut pas additionner 1 sur une liste python\n",
    "# il faut commenter la ligne précédente pour pouvoir exécuter la suite\n",
    "\n",
    "# passage à numpy:\n",
    "mnp = np.array(mpy)\n",
    "print(\"matrice numpy: \\n\", mnp) # l'affichage est plus joli!\n",
    "\n",
    "# apercu des outils de haut niveau qui seront disponibles:\n",
    "print(\"matrice numpy + 1: \\n\",mnp + 1) # ca marche !\n"
   ]
  },
  {
   "cell_type": "code",
   "execution_count": null,
   "metadata": {},
   "outputs": [],
   "source": [
    "# approche 3: vers des matrices plus compliquées\n",
    "\n",
    "# syntaxe plus compliquée + matrice plus compliquée!\n",
    "# création de listes python en utilisant des boucles imbriquées:\n",
    "mpy2 = [[n+m*10 for n in range(5)] for m in range(5)]\n",
    "\n",
    "# création d'une structure numpy à partir d'une liste ou d'une liste de liste:\n",
    "mnp2 = np.array([[n+m*10 for n in range(5)] for m in range(5)]) # ou np.array(mp)\n",
    "print(mnp2)\n"
   ]
  },
  {
   "cell_type": "markdown",
   "metadata": {},
   "source": [
    "## <span style=\"color:red\"> EXO (1) de créations basiques</span>\n",
    "\n",
    "* Générer un vecteur numpy contenant les entiers successifs de 12 à 23\n",
    "* Afficher le résultat pour vérifier (notamment les bornes)\n",
    "* Générer une matrice numpy 20 x 50 avec des valeurs aléatoires entre 0 et 1\n",
    "* Afficher cette matrice pour bien comprendre les difficultés de manipulation des matrices de grandes dimensions."
   ]
  },
  {
   "cell_type": "code",
   "execution_count": null,
   "metadata": {},
   "outputs": [],
   "source": []
  },
  {
   "cell_type": "markdown",
   "metadata": {},
   "source": [
    "### Dimension des matrices et vecteurs\n",
    "\n",
    "Il est très important de distinguer les **vecteurs** (structures unidimensionelles, comme les listes) et les **matrices** (structures bidimensionnelles).\n",
    "\n",
    "1. Les calculs matricielles sont fait essentiellement entre **matrices**, il faut donc éviter les vecteurs pour les réaliser\n",
    "1. Même lorsqu'on démarre un calcul avec des **matrices**, certaines opérations numpy nous ramènent à des vecteurs... \n",
    "\n",
    "Il faut donc jongler entre les types, ce qui impose la maitrise de `reshape`\n"
   ]
  },
  {
   "cell_type": "code",
   "execution_count": null,
   "metadata": {},
   "outputs": [],
   "source": [
    "# 1.  Reconnaitre les vecteurs et les matrices:\n",
    "v = np.array([1, 2, 3]) # ceci est un vecteur\n",
    "m = np.array([[1, 2, 3]]) # ceci est une matrice d'une ligne\n",
    "\n",
    "# => Affichage des dimensions\n",
    "print(v.shape)\n",
    "print(m.shape)\n"
   ]
  },
  {
   "cell_type": "code",
   "execution_count": null,
   "metadata": {},
   "outputs": [],
   "source": [
    "# 2. Passer de l'un à l'autre\n",
    "\n",
    "v = np.array([1, 2, 3]) # vecteur\n",
    "print(v.shape)\n",
    "m_ligne = v.reshape(1, 3) # matrice 1 ligne, 3 colonnes\n",
    "print(m_ligne.shape)\n",
    "m_col = v.reshape(3, 1) # matrice 3 lignes, 1 colonne\n",
    "print(m_col.shape)"
   ]
  },
  {
   "cell_type": "code",
   "execution_count": null,
   "metadata": {},
   "outputs": [],
   "source": [
    "# ce qui correspond aux structures suivantes:\n",
    "print(m_ligne)\n",
    "print(m_col)"
   ]
  },
  {
   "cell_type": "code",
   "execution_count": null,
   "metadata": {},
   "outputs": [],
   "source": [
    "# Note: il est fastidieux de renseigner à la fois les lignes et les colonnes dans reshape, on utilise souvent un joker:\n",
    "\n",
    "v = np.array([1, 2, 3]) # vecteur\n",
    "print(v.shape)\n",
    "m_ligne = v.reshape(1, -1)  # matrice: je veux 1 ligne\n",
    "                            # numpy mettra autant de colonnes que nécessaire (i.e. 3)\n",
    "print(m_ligne.shape)\n",
    "m_col = v.reshape(-1, 1)    # matrice: je veux 1 colonne\n",
    "                            # numpy mettra autant de ligne que nécessaire (i.e. 3)\n",
    "print(m_col.shape)"
   ]
  },
  {
   "attachments": {},
   "cell_type": "markdown",
   "metadata": {},
   "source": [
    "# <span style=\"color:red\"> EXO(1)  Création d'un échiquier </span>\n",
    "\n",
    "Construire une matrice composée de 1 et 0 sur un carré de 8 cases par 8.\n",
    "\n",
    "Après avoir compléter la boite ci-dessous, vous devez obtenir une image de la forme:\n",
    "\n",
    "<img src=\"./ressources/check.png\" title=\"Résultat attendu\">\n",
    "\n",
    "**note:** la clé algorithmique est de voir que pour chaque case $(i,j)$, il faut mettre $1$ si $i+j$ est pair et $0$ sinon\n"
   ]
  },
  {
   "cell_type": "code",
   "execution_count": null,
   "metadata": {},
   "outputs": [],
   "source": [
    "# mat = # a completer\n",
    "\n",
    "#  TODO \n",
    "\n",
    "import matplotlib.pyplot as plt # nous allons voir ces fonctions un peu plus loin\n",
    "plt.imshow(mat, cmap='gray') # affichage de mat \n",
    "plt.colorbar()"
   ]
  },
  {
   "attachments": {},
   "cell_type": "markdown",
   "metadata": {},
   "source": [
    "# <span style=\"color:red\"> EXO(1)  Création d'une matrice diagonale spéciale </span>\n",
    "\n",
    "Construire une matrice diagonale carrée de 10 cases de coté dont la diagonale vaut 5 (et les autres cases 0).\n",
    "\n",
    "Note: la réponse est triviale = 1 ligne"
   ]
  },
  {
   "cell_type": "code",
   "execution_count": null,
   "metadata": {},
   "outputs": [],
   "source": [
    "# mat = # a completer\n",
    "\n",
    "#  TODO \n",
    "\n",
    "import matplotlib.pyplot as plt\n",
    "plt.imshow(mat, cmap='gray')\n",
    "plt.colorbar()"
   ]
  },
  {
   "attachments": {},
   "cell_type": "markdown",
   "metadata": {},
   "source": [
    "# <span style=\"color:red\"> EXO(1)  Création d'une matrice à partir d'un fichier </span>\n",
    "\n",
    "Afin de démontrer l'importation de valeurs depuis un fichier... Nous allons créer un fichier.\n",
    "\n",
    "1. Ouvrir un éditeur de texte (notepad, gedit, sublime, ...)\n",
    "1. Copier-coller le texte ci-dessous (les chiffres sont séparés par des tabulations):\n",
    "```\n",
    "1   2\n",
    "3   3\n",
    "4   2\n",
    "5   1\n",
    "```\n",
    "1. Sauver le fichier sous le nom: ```test.txt``` **dans le même répertoire que le notebook**\n",
    "1. Exécuter la boite ci-dessous qui doit lire le fichier\n",
    "\n",
    "La boite encore en dessous illustre la possibilité symétrique: le fait de sauver une matrice dans un fichier. Du point de vue de la programmation de bas niveau, ces opérations sont non triviales (ouverture/fermeture de fichier; lecture/écriture; ...) L'intérêt de numpy est justement de nous affranchir de ces difficultés opérationnelles pour nous concentrer sur les données elles-mêmes.\n"
   ]
  },
  {
   "cell_type": "code",
   "execution_count": null,
   "metadata": {},
   "outputs": [],
   "source": [
    "# lecture des données d'un fichier\n",
    "m5 = np.loadtxt(\"test.txt\")\n",
    "print(m5)\n",
    "# Vous pouvez modifier m5 à volonté, le fichier n'est pas impacté (ce qui est intuitif)"
   ]
  },
  {
   "cell_type": "code",
   "execution_count": null,
   "metadata": {},
   "outputs": [],
   "source": [
    "mat = np.ones((5,3))\n",
    "mat[1, 2] = 2 # modification d'une case (cf boite ci-dessous)\n",
    "np.savetxt(\"test2.txt\", mat)\n",
    "\n",
    "# aller vérifier que le fichier a bien été créé et l'ouvrir pour vérifier le contenu."
   ]
  },
  {
   "attachments": {},
   "cell_type": "markdown",
   "metadata": {},
   "source": [
    "## Récupération/affectation de valeurs\n",
    "\n",
    "La boite ci-dessous liste les opérations de lecture possible. Ajouter des ```print``` pour vérifier que vous avez compris les valeurs extraites.\n",
    "\n",
    "Sur les vecteurs, l'indicage est sans ambiguité:\n",
    "$$ A = [a_1, \\ldots, a_d] $$\n",
    "\n",
    "\n",
    "Sur les matrices, par contre, il faut comprendre la logique: le premier indice désigne les lignes, le second les colonnes.\n",
    "Lorsque que vous aurez initialisé une matrice de taille $(n,d)$, il faudra imaginer la structure de données suivante en faisant attention à l'ordre des arguments:\n",
    "\n",
    "$ M = \\begin{pmatrix}\n",
    "m_{11} & m_{12} & \\ldots & m_{1d} \\\\\n",
    "m_{21} & m_{22} & \\ldots & m_{2d} \\\\\n",
    "\\vdots &  \\vdots & \\ddots & \\vdots \\\\\n",
    "m_{n1} & m_{n2} & \\ldots & m_{nd} \\\\\n",
    "\\end{pmatrix} $\n",
    "\n",
    "Par exemple, pour accéder à la (deuxième ligne-première colonne), il faut faire : ```M[1,0]```\n",
    "\n",
    "Dans tous les cas, il faut ensuite distinguer l'accès à une valeur et l'accès à un bloc (série de valeurs ou sous-matrice).\n"
   ]
  },
  {
   "cell_type": "code",
   "execution_count": null,
   "metadata": {
    "collapsed": true
   },
   "outputs": [],
   "source": [
    "# accès aux différentes valeurs dans un VECTEUR numpy\n",
    "\n",
    "A = np.array([1,2,3,4,5])\n",
    "A[1:3]  # array([2, 3])\n",
    "\n",
    "# On peut omettre n'importe lequel des argument dans A[start:stop:step]:\n",
    "A[::] # indices de début, fin, et pas avec leurs valeurs par défaut\n",
    "      # array([ 1, 2, 3,  4,  5])\n",
    "A[::2] # pas = 2, indices de début et de fin par défaut\n",
    "       # array([ 1, 3,  5])\n",
    "A[:3] # les trois premiers éléments (indices 0,1,2)\n",
    "      # array([ 1, 2, 3])\n",
    "A[3:] # à partir de l'indice 3\n",
    "      # array([4, 5])\n",
    "\n",
    "# On peut utiliser des indices négatifs :\n",
    "A[-1] # le dernier élément\n",
    "      # 5\n",
    "A[-3:] # les 3 derniers éléments\n",
    "       # array([3, 4, 5])\n",
    "\n"
   ]
  },
  {
   "cell_type": "code",
   "execution_count": null,
   "metadata": {},
   "outputs": [],
   "source": [
    "# accès aux différentes valeurs dans une MATRICE numpy\n",
    "# => Passage de 1 à 2 dimensions\n",
    "\n",
    "mat   = np.ones((5,6)) \n",
    "mat[0,0] # récupération de la première valeur\n",
    "mat[0,:] # récupération de la première ligne\n",
    "mat[0,0:2] # récupération des valeurs d'indice 0 et 1\n",
    "# petites astuces supplémentaires\n",
    "mat[0,1:] # toute la ligne sauf la première case\n",
    "mat[0,:-1] # toute la ligne sauf la dernière case\n",
    "mat[0,:-2] # toute la ligne sauf les deux dernières cases    \n"
   ]
  },
  {
   "attachments": {},
   "cell_type": "markdown",
   "metadata": {},
   "source": [
    "**Trois manières d'utiliser ```:```**\n",
    "\n",
    "* Récupération de *toutes* les valeurs ```mat[0,:]```\n",
    "* Récupération d'un bloc de valeurs ```mat[0,1:4]```\n",
    "* [usage plus marginal] Récupération de valeurs par pas. E.g. entre les indices 1 et 10, mais avec un pas de 2 ```mat[0,1:10:2]```"
   ]
  },
  {
   "cell_type": "code",
   "execution_count": null,
   "metadata": {},
   "outputs": [],
   "source": [
    "mat   = np.zeros((5,6)) \n",
    "mat[:, 0:6:2] = 1 # création d'un matrice zébrée\n",
    "\n",
    "plt.imshow(mat)"
   ]
  },
  {
   "attachments": {},
   "cell_type": "markdown",
   "metadata": {},
   "source": [
    "# <span style=\"color:red\"> EXO(1)  Création d'une matrice contour </span>\n",
    "\n",
    "Construire une matrice diagonale rectangle de 6x8 cases dont toutes les cases sont à 0 sauf le contour qui est à 1. Vous répondrez à cette question SANS faire de boucle ```for```.\n",
    "\n"
   ]
  },
  {
   "cell_type": "code",
   "execution_count": null,
   "metadata": {},
   "outputs": [],
   "source": [
    "mat = \n",
    "# A compléter\n",
    "\n",
    "import matplotlib.pyplot as plt\n",
    "plt.imshow(mat, cmap='gray')\n",
    "plt.colorbar()\n"
   ]
  },
  {
   "attachments": {},
   "cell_type": "markdown",
   "metadata": {},
   "source": [
    "### Passage à l'affectation de valeurs sur certaines cases\n",
    "\n",
    "La syntaxe est la même, l'approche est assez intuitive."
   ]
  },
  {
   "cell_type": "code",
   "execution_count": null,
   "metadata": {},
   "outputs": [],
   "source": [
    "# Affectation de valeurs:\n",
    "# une matrice d'entier\n",
    "mat   = np.ones((5,6)) \n",
    "mat[0,0:2] = 2 # affectation en bloc\n",
    "mat[0,2:4] = np.zeros((1,2)) # affectation en bloc d'une autre matrice\n",
    "mat[1, :]  = np.arange(6)\n",
    "print(mat)\n",
    "\n",
    "# Matrice VS vecteur !!\n",
    "A = np.random.rand(5,3) # matrice 5x3\n",
    "print(A)\n",
    "B = A[2,:]              # extraction de la troisième ligne...\n",
    "                        # il s'agit d'un vecteur !!!\n",
    "print(B)\n",
    "B = A[2:3,:]            # extraction de la troisième ligne...\n",
    "                        # mais il s'agit d'une matrice (transposable) !!!\n",
    "print(B)"
   ]
  },
  {
   "attachments": {},
   "cell_type": "markdown",
   "metadata": {},
   "source": [
    "# <span style=\"color:red\"> EXO(2)  Création d'une matrice diagonale par bloc </span>\n",
    "\n",
    "Construire une matrice diagonale carrée de 10 cases dont la diagonale sera composée de 5 blocs 2x2. Le premier bloc aura pour valeur 1, le deuxième 2, etc...\n",
    "\n",
    "Note: une solution consiste à créer une matrice de 0 puis à faire **une seule** boucle `for` en jouant sur les indices pour mettre à jour les blocs.\n",
    "\n",
    "<img src=\"ressources/blocs.png\" title=\"Résultat attendu\">"
   ]
  },
  {
   "cell_type": "code",
   "execution_count": null,
   "metadata": {},
   "outputs": [],
   "source": [
    "mat = np.zeros((10,10))\n",
    "# A compléter\n",
    "#  TODO \n",
    "\n",
    "import matplotlib.pyplot as plt\n",
    "plt.imshow(mat, cmap='gray')\n",
    "plt.colorbar()\n"
   ]
  },
  {
   "attachments": {},
   "cell_type": "markdown",
   "metadata": {},
   "source": [
    "## Opérateurs de haut niveau sur les matrices\n",
    "\n",
    "Le fait de passer dans l'univers numpy ouvre des possibilités: il est possible de faire les opérations suivantes sur les matrices: agrégation, addition, soustraction, recherche de min, max, moyenne -globale, par ligne ou par colonne-, etc..."
   ]
  },
  {
   "cell_type": "code",
   "execution_count": null,
   "metadata": {
    "collapsed": true
   },
   "outputs": [],
   "source": [
    "# concaténation de matrices:\n",
    "# ATTENTION: la logique est la même que pour ones/zeros\n",
    "# => un seul argument sous la forme d'un tuple contenant les matrices à fusionner\n",
    "\n",
    "# fusion verticale\n",
    "m6 = np.vstack((np.array([[1, 2], [3, 4]]), np.ones((3,2))))\n",
    "print(m6)\n",
    "\n",
    "# fusion verticale + fusion horizontale\n",
    "m7 = np.vstack((np.array([1, 2, 3]), np.hstack((np.ones((3,2)), np.zeros((3,1))))))\n",
    "print(m7)\n"
   ]
  },
  {
   "attachments": {},
   "cell_type": "markdown",
   "metadata": {},
   "source": [
    "## <span style=\"color:red\">EXO(3) Génération de données et agrégation de matrices </span>\n",
    "\n",
    "Nous souhaitons créer une matrice 10x3 dont la première colonne contient les indices 1 à 10 dans l'ordre. La seconde colonne contiendra des nombres aléatoires entre 0 et 1. La troisième colonne ne contiendra que des 0.\n",
    "Vous ajouterez ensuite une ligne en haut de la matrice contenant les indices de colonne 1 à 3.\n",
    "\n",
    "**NB:** vous pouvez créer des matrices dans des matrices\n",
    "\n",
    "**NB2:** à la fin du processus, on veut un ```np.array```, il faut soit travailler en numpy tout le temps, soit penser à convertir les listes python.\n",
    "\n",
    "**NB3:** l'exercice suivant donne des indications utiles :)\n",
    "\n",
    "Exemple de résultat possible:\n",
    "\n",
    "    1.00000    2.00000    3.00000\n",
    "    1.00000    0.03479    0.00000\n",
    "    2.00000    0.66074    0.00000\n",
    "    3.00000    0.15187    0.00000\n",
    "    4.00000    0.03640    0.00000\n",
    "    5.00000    0.62497    0.00000\n",
    "    6.00000    0.54774    0.00000\n",
    "    7.00000    0.68919    0.00000\n",
    "    8.00000    0.86146    0.00000\n",
    "    9.00000    0.72030    0.00000\n",
    "    10.0000    0.84590    0.00000\n"
   ]
  },
  {
   "cell_type": "code",
   "execution_count": null,
   "metadata": {},
   "outputs": [],
   "source": [
    "# vorte réponse\n",
    "#  TODO "
   ]
  },
  {
   "attachments": {},
   "cell_type": "markdown",
   "metadata": {},
   "source": [
    "### Tailles des matrices\n",
    "\n",
    "Il est important de savoir accéder aux dimensions des matrices que l'on manipule. C'est une opération utile en générale... Mais surtout indispensable pour débugguer les programmes.\n",
    "\n",
    "Lorsque vous êtes face à une erreur, il faut comprendre d'où elle vient (évidemment !). On commence souvent par faire des ```print``` sur les matrices, ce qui est une bonne idée mais qui a des limites: dès que les matrices sont grandes, on ne voit plus rien...\n",
    "Il est alors bien plus pertinent de faire des vérifications sur les dimensions des matrices."
   ]
  },
  {
   "cell_type": "code",
   "execution_count": null,
   "metadata": {
    "collapsed": true
   },
   "outputs": [],
   "source": [
    "# pour une variable:\n",
    "mat.shape # (5,6)\n",
    "mat.shape[0] # 5\n",
    "mat.shape[1] # 6 \n",
    "n, m = mat.shape # retours multiples"
   ]
  },
  {
   "attachments": {},
   "cell_type": "markdown",
   "metadata": {},
   "source": [
    "## <span style=\"color:red\"> EXO(2) Debuggage </span>\n",
    "\n",
    "Problème de dimension... Les plus classiques en numpy!"
   ]
  },
  {
   "cell_type": "code",
   "execution_count": null,
   "metadata": {},
   "outputs": [],
   "source": [
    "# mini exercice de debuggage:\n",
    "# 1. Exécuter le code pour voir l'erreur\n",
    "# 2. Comprendre d'où vient le problème... En lisant le message puis en étudiant les dimensions des matrices de la ligne problématique\n",
    "\n",
    "mat = np.vstack((np.arange(5), np.hstack((np.ones((3,2)), np.zeros((3,2)))))) \n",
    "mat[1, 1] = 12\n",
    "print(mat)\n",
    "\n",
    "#  TODO "
   ]
  },
  {
   "attachments": {},
   "cell_type": "markdown",
   "metadata": {},
   "source": [
    "## Fonctions de base sur les matrices\n",
    "Additions, transposées etc..."
   ]
  },
  {
   "cell_type": "code",
   "execution_count": null,
   "metadata": {
    "collapsed": true
   },
   "outputs": [],
   "source": [
    "ma = np.random.rand(5,6)     \n",
    "# Transposition\n",
    "mat = ma.T          # pour la transposée \n",
    "mat = ma.transpose();    # ou bien\n",
    "mat = np.transpose(ma);  # ou bien\n",
    "# la plupart des fonctions numpy acceptent la syntaxe objet et la syntaxe non-objet."
   ]
  },
  {
   "cell_type": "code",
   "execution_count": null,
   "metadata": {
    "collapsed": true
   },
   "outputs": [],
   "source": [
    "# Addition / soustraction\n",
    "v1 = v1+ 3    # ou v1 += 3     % matrice + scalaire\n",
    "              # changement sur les toutes les valeurs de v1\n",
    "              # NB: le - fonctionne pareil\n",
    "\n",
    "# multiplication ne pas confondre les opérations matricielles et terme à terme:\n",
    "m1 = np.ones((10,1)) @ np.array([1,2,3]) # produit matriciel\n",
    "m2 = np.ones((10,3)) * 2                 # multiplication par un scalaire\n",
    "m3 = m1 * m2;            # multiplication terme à terme   \n",
    "# usage de .dot = @\n",
    "m1 = np.ones((10,1)).dot(np.array([[1,2,3]])) # Bien mieux: moins d'ambiguité!"
   ]
  },
  {
   "attachments": {},
   "cell_type": "markdown",
   "metadata": {},
   "source": [
    "Reflexion sur les recherches de valeurs et d'indices:\n",
    "\n",
    "Soit la matrice:\n",
    "\n",
    "$m =\\begin{pmatrix}\n",
    "5 & 2 & 1\\\\\n",
    "1 & 0.5 & 3\n",
    "\\end{pmatrix} $\n",
    "\n",
    "Il y a différente manière de s'intéresser au minimum, correspondant à différents usages dans différents algorithmes:\n",
    "\n",
    "1. Recherche de la plus petite valeur de la matrice: ```m.min()```\u001d $\\Rightarrow 0.5$\n",
    "1. Recherche des minima sur chaque colonne: ```m.min(0)``` ou ```m.min(axis=0)```\u001d\u001d $\\Rightarrow [1, 0.5, 1]$\n",
    "1. Recherche des indices sur lesquels sur trouvent les minima pour chaque colonne: ```m.argmin(0)``` ou ```m.argmin(axis=0)```\u001d\u001d$\\Rightarrow [1, 1, 0]$\n",
    "\n",
    "Nous utiliserons beaucoup ces fonctions, dans toutes leurs formes.\n"
   ]
  },
  {
   "cell_type": "code",
   "execution_count": null,
   "metadata": {
    "collapsed": false
   },
   "outputs": [],
   "source": [
    "# recherche du min dans une matrice\n",
    "# ajouter des print pour comprendre les méthodes\n",
    "\n",
    "print(\"Soit la matrice m1:\\n\",m1,\"\\n\")\n",
    "\n",
    "print(m1.min())   # syntaxe objet\n",
    "np.min(m1)        # autre syntaxe\n",
    "# recherche du minimum de chaque colonne:\n",
    "print(m1.min(axis=0)) # equivalent à m1.min(0)\n",
    "\n",
    "# recherche du minimum sur chaque ligne\n",
    "print(m1.min(1)) # equivalent à m1.min(axis=1)"
   ]
  },
  {
   "cell_type": "code",
   "execution_count": null,
   "metadata": {},
   "outputs": [],
   "source": [
    "# distinction min/argmin\n",
    "\n",
    "# travail en ligne/colonne\n",
    "m1 = np.array([[ 0.77846102,  0.22597046,  0.217657  ,  0.28958186], \\\n",
    "               [ 0.02133707,  0.03258567,  0.81939161,  0.2834734 ], \\\n",
    "               [ 0.92120271,  0.68409416,  0.24285983,  0.61582659]])\n",
    "m1.argmin()  # 4\n",
    "m1.argmin(0) # array([1, 1, 0, 1])\n",
    "m1.argmin(1) # array([2, 0, 2])\n",
    "\n",
    "# arrondis\n",
    "np.round(m1) # au plus proche\n",
    "np.ceil(m1)  # au dessus\n",
    "np.floor(m1) # au dessous\n",
    "\n",
    "# tris\n",
    "np.sort(m1)   # ligne par ligne\n",
    "np.sort(m1,0) # colonne par colonne\n",
    "np.sort(m1,1) # ligne par ligne\n",
    "\n",
    "# statistique de base\n",
    "m1.mean() # 0.427  -> sur toute la matrice\n",
    "m1.mean(0) # array([ 0.57366693,  0.31421676,  0.42663615,  0.39629395]) \n",
    "            # colonne par colonne\n",
    "m1.mean(1) # ligne par ligne\n",
    "\n",
    "# m1.std...\n",
    "# m1.sum...\n",
    "# m1.prod...\n",
    "# m1.cumsum..."
   ]
  },
  {
   "attachments": {},
   "cell_type": "markdown",
   "metadata": {},
   "source": [
    "## <span style=\"color:red\"> EXO(1) Calcul de moyennes, écarts-types </span>\n",
    "\n",
    "Soit la matrice de donnée suivante:\n",
    "```\n",
    "M = np.array([[8, 3, 7, 3, 2, 7, 9, 1, 2, 9],\n",
    "              [2, 1, 3, 7, 4, 2, 5, 4, 6, 0],\n",
    "              [5, 1, 4, 1, 1, 1, 0, 6, 5, 0]])\n",
    "```\n",
    "\n",
    "Construire la fonction ```stats``` qui prend en argument une matrice et retourne le vecteur contenant les moyennes des colonnes ET un second vecteur contenant les écarts-types des colonnes.\n",
    "\n",
    "**Note:** vous utiliserez directement les fonctions ```np.mean``` et ```np.std```, pas besoin de faire les calculs à la main.\n",
    "\n",
    "**Note 2:** une fonction définie par ```def mafonction(arg):``` peut retourner un tuple, c'est à dire plusieurs résultats agrégés dans une structure simple ```return vec1, vec2```. L'appel (le plus simple) à ma fonction sera de la forme: ```res1, res2 = mafonction(arg)```"
   ]
  },
  {
   "cell_type": "code",
   "execution_count": null,
   "metadata": {},
   "outputs": [],
   "source": [
    "M = np.array([[8, 3, 7, 3, 2, 7, 9, 1, 2, 9],\n",
    "              [2, 1, 3, 7, 4, 2, 5, 4, 6, 0],\n",
    "              [5, 1, 4, 1, 1, 1, 0, 6, 5, 0]])\n",
    "\n",
    "# Définition de la fonction\n",
    "\n",
    "#  TODO \n",
    "\n",
    "# Invocation de la fonction et récupération de 2 valeurs en retour\n",
    "#             "
   ]
  },
  {
   "attachments": {},
   "cell_type": "markdown",
   "metadata": {},
   "source": [
    "### Jouons avec les minima\n",
    "\n",
    "Gestion particulière du minimum: on a souvent besoin de retourner la valeur minimum parmi 2. En C/JAVA/Matlab, cela est réalisé avec min... Pas en python! => minimum"
   ]
  },
  {
   "cell_type": "code",
   "execution_count": null,
   "metadata": {
    "collapsed": true
   },
   "outputs": [],
   "source": [
    "# entre 2 valeurs\n",
    "np.minimum(2,3) # 2\n",
    "# entre 2 matrices\n",
    "m1 = np.random.rand(3,4)\n",
    "m2 = np.random.rand(3,4)    \n",
    "np.minimum(m1,m2) # matrice 3x4 contenant les valeurs min d'une comparaison terme à terme\n",
    "# entre une matrice et un scalaire: pour seuiller\n",
    "np.minimum(m1,0.5)\n",
    "# array([[ 0.5       ,  0.22597046,  0.217657  ,  0.28958186],\n",
    "#        [ 0.02133707,  0.03258567,  0.5       ,  0.2834734 ],\n",
    "#        [ 0.5       ,  0.5       ,  0.24285983,  0.5       ]])"
   ]
  },
  {
   "attachments": {},
   "cell_type": "markdown",
   "metadata": {},
   "source": [
    "# <span style=\"color:red\"> EXO(3) Manipulation standard de matrices </span>\n",
    "\n",
    "1. Générer une matrice ```10x3``` de valeurs distribuées selon une loi normale centrée réduite (```np.random.randn```)\n",
    "1. Faites en sorte que l'écart-type de la génératrice passe à 4 et vérifier que c'est le approximativement cas avec la fonction ```np.std```\n",
    "1. Centrer la première colonne sur 10, la seconde sur 12 et la troisième sur 14. Vérifier que les moyennes sont bonnes avec ```np.mean(axis=0)``` <BR> **NB:** il est impératif de travailler sur la dispersion avant le centrage (vérifiez cette affirmation en inversant les deux réponses si vous avez un doute)\n",
    "1. Seuiller toutes les valeurs inférieures à 5 avec ```np.maximum``` (i.e. toutes les valeurs inférieures à 5 sont mises à 5)\n",
    "1. Seuiller toutes les valeurs supérieures à 18\n",
    "1. Compter combien de valeurs se situent entre 8 et 12 (exclus) (question optionnelle: ce sera tellement plus simple une fois introduit ```np.where```)"
   ]
  },
  {
   "cell_type": "code",
   "execution_count": null,
   "metadata": {},
   "outputs": [],
   "source": [
    "#  TODO "
   ]
  },
  {
   "attachments": {},
   "cell_type": "markdown",
   "metadata": {},
   "source": [
    "## boucles avancées (bien pratiques)"
   ]
  },
  {
   "cell_type": "code",
   "execution_count": null,
   "metadata": {},
   "outputs": [],
   "source": [
    "v0 =np.arange(10)\n",
    "v1 = np.random.rand(10)\n",
    "\n",
    "print(v0,v1)\n",
    "\n",
    "for val0, val1 in zip(v0, v1):\n",
    "    print('indice ',val0, ' et valeur associée ', val1)\n",
    "    \n",
    "# note: il était possible d'obtenir le même résultat avec enumerate:\n",
    "for i, val in enumerate(v1):\n",
    "    print('indice ',i, ' et valeur associée ', val)"
   ]
  },
  {
   "attachments": {},
   "cell_type": "markdown",
   "metadata": {},
   "source": [
    "## Tests en bloc\n",
    "Exercice intéressant pour deux raisons\n",
    "1. connaitre cette syntaxe particulière\n",
    "1. **comprendre les messages d'erreur** lorsqu'on essaie de faire des tests sur une matrice sans ces instructions"
   ]
  },
  {
   "cell_type": "code",
   "execution_count": null,
   "metadata": {
    "collapsed": true
   },
   "outputs": [],
   "source": [
    "m = np.array([[1, 2], [3, 4]])\n",
    "\n",
    "if (m>1).all():\n",
    "    print(\"(1) sup to 1\")\n",
    "else:\n",
    "    print(\"(1) NOT sup to 1\")\n",
    "\n",
    "if (m>1).any():\n",
    "    print(\"(2) sup to 1\")\n",
    "else:\n",
    "    print(\"(2) NOT sup to 1\")"
   ]
  },
  {
   "cell_type": "code",
   "execution_count": null,
   "metadata": {},
   "outputs": [],
   "source": [
    "# Une erreur très classique qu'il faut savoir comprendre (ie comprendre le message associé) puis corriger\n",
    "# (1) executer le bloc (2) lire le message d'erreur et le comprendre\n",
    "# (3) proposer une correction en accord avec le message du print\n",
    "\n",
    "if m > 0:\n",
    "    print(\"les valeurs sont supérieures à 0\")\n"
   ]
  },
  {
   "attachments": {},
   "cell_type": "markdown",
   "metadata": {},
   "source": [
    "## Fonctions et vectorisation des fonctions de base\n",
    "Il est évidemment possible de définir des fonctions prenant des structures numpy en argument. Mais il est aussi possible de *vectoriser* une fonction qui n'était pas prévue pour fonctionner sur des matrices. Il s'agit d'une nouvelle manière d'éviter les boucles.\n",
    "\n",
    "1. On définit une fonction qui transforme UNE valeur\n",
    "1. On passe cette fonction dans ```np.vectorize```\n",
    "1. On peut appliquer cette fonction sur une matrice et chacune des cases sera traitée\n",
    "\n",
    "<span style=\"color:orange\">**Fonctionnalité hors programme (usage marginal)**</span>\n",
    "\n"
   ]
  },
  {
   "cell_type": "code",
   "execution_count": null,
   "metadata": {},
   "outputs": [],
   "source": [
    "def theta(x):           # signature classique \n",
    "    \"\"\"                  \n",
    "    Scalar implemenation of the Heaviside step function.\n",
    "    \"\"\"\n",
    "    if x >= 0:\n",
    "        return 1\n",
    "    else:\n",
    "        return 0\n",
    "    \n",
    "theta_vec = np.vectorize(theta)         # notation fonctionnelle (fonction sur des fonctions)\n",
    "res = theta_vec(np.array([-3,-2,-1,0,1,2,3]))\n",
    "print(res) # [0 0 0 1 1 1 1]"
   ]
  },
  {
   "attachments": {},
   "cell_type": "markdown",
   "metadata": {},
   "source": [
    "## <span style=\"color:red\"> EXO(3) Traduction de matrice </span>\n",
    "* Générer une matrice aléatoire `m` de taille (15,2) contenant des entiers aléatoires entre 0 et 3.\n",
    "* Construire le dictionnaire `dico` {0:'titi', 1:'toto', 2:'tata', 3:'tutu'}\n",
    "* La méthode `get` du dictionnaire permet de traduire une valeur de `m`\n",
    "* Utiliser la commande `np.vectorize` pour traduire en une ligne et sans boucle toute la matrice `m` en une matrice `mtxt`"
   ]
  },
  {
   "cell_type": "code",
   "execution_count": null,
   "metadata": {},
   "outputs": [],
   "source": [
    "#  TODO "
   ]
  },
  {
   "attachments": {},
   "cell_type": "markdown",
   "metadata": {},
   "source": [
    "## Vérification de l'état de la mémoire"
   ]
  },
  {
   "cell_type": "code",
   "execution_count": null,
   "metadata": {},
   "outputs": [],
   "source": [
    "%who"
   ]
  },
  {
   "attachments": {},
   "cell_type": "markdown",
   "metadata": {},
   "source": [
    "## Sauvegarde / chargement depuis numpy\n",
    "\n",
    "C'est la passerelle entre excel et numpy\n",
    "* Excel: save as csv\n",
    "* numpy : loadtxt\n",
    "* Ou l'inverse..."
   ]
  },
  {
   "cell_type": "code",
   "execution_count": null,
   "metadata": {
    "collapsed": true
   },
   "outputs": [],
   "source": [
    "m5 = np.array([[1, 2], [3, 4]])\n",
    "np.savetxt(\"ma-matrice.txt\", m5)\n",
    "# donne le fichier:\n",
    "# 1.000000000000000000e+00 2.000000000000000000e+00\n",
    "# 3.000000000000000000e+00 4.000000000000000000e+00\n",
    "np.savetxt(\"ma-matrice.txt\", m5, fmt='%.5f', delimiter=',')\n",
    "# donne le fichier:\n",
    "# 1.00000,2.00000\n",
    "# 3.00000,4.00000"
   ]
  },
  {
   "cell_type": "code",
   "execution_count": null,
   "metadata": {
    "collapsed": true
   },
   "outputs": [],
   "source": [
    "# fonction symétrique de chargement\n",
    "m6 = np.loadtxt(\"ma-matrice.txt\", delimiter=',')"
   ]
  },
  {
   "attachments": {},
   "cell_type": "markdown",
   "metadata": {},
   "source": [
    "## De numpy à python, usage de pickle\n",
    "\n",
    "loadtxt/savetxt: idéal pour numpy...\n",
    "    * Chargement/sauvegarde des matrices, format lisible de l'extérieur si besoin\n",
    "    * Echanges possibles avec d'autres langages: matlab, JAVA...\n",
    "... Mais pour le python en général, on préfère pickle\n",
    "    * Serialization généralisé: pour les valeurs, les objets (dont les matrices), les listes, les dictionnaires...\n",
    "    * Très facile à utiliser\n",
    "    * Utilisé par tout le monde en python... Donc à connaitre\n"
   ]
  },
  {
   "cell_type": "code",
   "execution_count": null,
   "metadata": {
    "collapsed": true
   },
   "outputs": [],
   "source": [
    "import pickle as pkl     # obligatoire pour pouvoir l'utiliser\n",
    "# sauvegarde d'un dictionnaire\n",
    "pkl.dump({\"m1\":m1, \"m2\":m2}, open(\"deuxmatrices.pkl\",\"wb\"))\n",
    "# chargement de données\n",
    "data = pkl.load(open('deuxmatrices.pkl','rb')) # attention à donner un file + option lecture (pas juste un nom de fichier)\n",
    "print(data['m1']) # accès standard dans les dictionnaires"
   ]
  },
  {
   "attachments": {},
   "cell_type": "markdown",
   "metadata": {},
   "source": [
    "## Matrice et type des données\n",
    "\n",
    "Toutes nos matrices étaient jusqu'ici des matrices de réels. Il est possible de définir (ou de transformer) des matrices qui contiennent des entiers voire des booléens en utilisant la syntaxe ci-dessous:"
   ]
  },
  {
   "cell_type": "code",
   "execution_count": null,
   "metadata": {
    "collapsed": true
   },
   "outputs": [],
   "source": [
    "# jouer avec les types des éléments internes aux matrices\n",
    "# une matrice d'entier\n",
    "matInt   = np.zeros((5,6), int) # matrice 5x6 de 0 (entiers)\n",
    "matBool  = np.zeros((5,6), bool) # matrice 5x6 de False (booléens)\n",
    "matBool2 = np.ones((5,6), bool) # matrice 5x6 de True (booléens)"
   ]
  },
  {
   "attachments": {},
   "cell_type": "markdown",
   "metadata": {},
   "source": [
    "## <span style=\"color:red\"> EXO(2) Table de contingence en numpy </span>\n",
    "\n",
    "Construction d'une liste de notes d'étudiants (50 notes entre 0 et 20): l'exercice est le même que celui proposé dans la partie python, mais **à réaliser entièrement dans l'environnement numpy**.\n",
    "\n",
    "* Génération d'un vecteur de notes tirées aléatoirement à l'aide de la fonction: ```np.random.randint``` \n",
    "* Création d'une nouvelle liste comptant combien de note de chaque niveau apparaissent dans la liste (table de contingence)\n",
    "* Création d'une troisième liste contenant toutes les notes supérieures à 10\n",
    "    \n",
    "Affichage des deux listes et vérification\n",
    "\n",
    "1. Il est intéressant de répondre à cet exercice avec des listes et des boucles... [OPT]\n",
    "1. Vous pouvez répondre en utilisant la fonction ```np.unique```. Regardez la documentation pour voir comment avoir accès au comptage. La dernière question peut-être résolue facilement avec un ```np.where``` qui sera abordée dans le prochain notebook. "
   ]
  },
  {
   "cell_type": "code",
   "execution_count": null,
   "metadata": {},
   "outputs": [],
   "source": [
    "#  TODO \n"
   ]
  },
  {
   "attachments": {},
   "cell_type": "markdown",
   "metadata": {},
   "source": [
    "## <span style=\"color:red\"> EXO(3) Premier contact avec la documentation </span>\n",
    "\n",
    "Vous allez générer la matrice suivante:\n",
    "```\n",
    "[[0 1 2 0 1 2]\n",
    " [0 1 2 0 1 2]\n",
    " [0 1 2 0 1 2]\n",
    " [0 1 2 0 1 2]\n",
    " [0 1 2 0 1 2]\n",
    " [0 1 2 0 1 2]\n",
    " [0 1 2 0 1 2]\n",
    " [0 1 2 0 1 2]\n",
    " [0 1 2 0 1 2]\n",
    " [0 1 2 0 1 2]]\n",
    "```\n",
    "Cette génération peut se faire en une ligne à condition d'utiliser la fonction ```np.tile``` dont la documentation se trouve : \n",
    "https://numpy.org/doc/stable/reference/generated/numpy.tile.html\n",
    "\n",
    "Au-delà de la question formelle, l'enjeu est d'apprendre à se servir de la documentation de numpy."
   ]
  },
  {
   "cell_type": "code",
   "execution_count": null,
   "metadata": {},
   "outputs": [],
   "source": [
    "#  TODO "
   ]
  },
  {
   "attachments": {},
   "cell_type": "markdown",
   "metadata": {},
   "source": [
    "## <span style=\"color:red\"> EXO(3) Travail en plus grande dimension </span>\n",
    "\n",
    "numpy ne vous limite pas à 2 dimensions...\n",
    "1. Créer un cube ```C``` de dimension ```4x3x2``` (avec la fonction ```np.zeros``` par exemple). Dans la suite on choisira de voire cette structure de données comme 4 matrices ```3x2```. Vérifier que vous pouvez acceder à la matrice ```i``` par la commande ```C[i]```.\n",
    "1. Remplir ce cube avec 15 valeurs aléatoires tirées entre 0 et 10 et positionnées dans des cases aléatoires\n",
    "1. Diviser le cube par des facteurs de normalisation de sorte à ce que chaque matrice ```3x2``` ait une somme de ```1```. Afficher les matrices pour vérifier *à l'oeil* que les sommes sont bonnes.\n",
    "1. Remplacer la sous-matrice ```2``` par une matrice remplie de 1.\n",
    "\n"
   ]
  },
  {
   "cell_type": "code",
   "execution_count": null,
   "metadata": {
    "collapsed": true
   },
   "outputs": [],
   "source": [
    "#  TODO "
   ]
  },
  {
   "cell_type": "code",
   "execution_count": null,
   "metadata": {},
   "outputs": [],
   "source": []
  },
  {
   "attachments": {},
   "cell_type": "markdown",
   "metadata": {},
   "source": [
    "# Fabrication du sujet à partir de la correction"
   ]
  },
  {
   "cell_type": "code",
   "execution_count": 1,
   "metadata": {},
   "outputs": [],
   "source": [
    "import re\n",
    "# transformation de cet énoncé en version étudiante\n",
    "\n",
    "fname = \"2_Tutoriel_numpy_creation_matrice-corr.ipynb\" # ce fichier\n",
    "fout  = fname.replace(\"-corr\",\"\")\n",
    "\n",
    "# print(\"Fichier de sortie: \", fout )\n",
    "\n",
    "f = open(fname, \"r\")\n",
    "txt = f.read()\n",
    " \n",
    "f.close()\n",
    "\n",
    "\n",
    "f2 = open(fout, \"w\")\n",
    "f2.write(re.sub(\" TODO )\",\" TODO \",\\\n",
    "    txt, flags=re.DOTALL))\n",
    "f2.close()\n",
    "\n"
   ]
  },
  {
   "cell_type": "code",
   "execution_count": null,
   "metadata": {},
   "outputs": [],
   "source": []
  }
 ],
 "metadata": {
  "kernelspec": {
   "display_name": "Python 3.9.7 ('base')",
   "language": "python",
   "name": "python3"
  },
  "language_info": {
   "codemirror_mode": {
    "name": "ipython",
    "version": 3
   },
   "file_extension": ".py",
   "mimetype": "text/x-python",
   "name": "python",
   "nbconvert_exporter": "python",
   "pygments_lexer": "ipython3",
   "version": "3.9.7"
  },
  "vscode": {
   "interpreter": {
    "hash": "902a52bcf4503a473db011f1937bdfe17613b08622219712e0110e48c4958c23"
   }
  }
 },
 "nbformat": 4,
 "nbformat_minor": 2
}
