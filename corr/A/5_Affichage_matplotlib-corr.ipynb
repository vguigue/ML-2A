{
 "cells": [
  {
   "attachments": {},
   "cell_type": "markdown",
   "metadata": {},
   "source": [
    "# Tutoriel sur les fonctions d'affichage\n",
    "\n",
    "Les tutoriels précédents ont du démontrer l'intérêt d'une librairie de haut niveau pour le stockage et la manipulation de données. Ils ont également montré que nous allions peu à peu nous affranchir (partiellement) du python de base pour travailler principalement dans l'univers numpy.\n",
    "\n",
    "Mais ces tutoriels montrent aussi la limite des ```print```: au-delà d'une matrice 5x5, on n'est plus capable d'avoir une vision d'ensemble des nombres, des échelles, des ordonnancements... Il va nous falloir introduire de nouveaux outils graphiques pour pallie ces limites.\n",
    "\n",
    "**Exercices** (marqués <span style=\"color:red\"> EXO</span>) Des exercices sont proposés régulièrement dans le notebook pour éviter *l'effet contemplatif* des exemples. Si vous maitrisez déjà les concepts de base et que les solutions vous semblent évidentes, n'héstiez pas à sauter des questions.\n",
    "\n",
    "Tous les exercices sont classés par ordre d'importance:  <span style=\"color:red\"> 1</span>=\"essentiel\", <span style=\"color:red\">2</span>=\"utile, <span style=\"color:red\">3</span>=\"optionnel et/ou avancé\"\n"
   ]
  },
  {
   "cell_type": "code",
   "execution_count": null,
   "metadata": {},
   "outputs": [],
   "source": [
    "import numpy as np\n",
    "import matplotlib.pyplot as plt\n",
    "# pour avoir toutes les options d'affichage\n",
    "# %matplotlib notebook\n",
    "# OU pour un affichage léger et rapide\n",
    "%matplotlib inline"
   ]
  },
  {
   "attachments": {},
   "cell_type": "markdown",
   "metadata": {},
   "source": [
    "## Affichage d'une liste de coordonnées\n",
    "Soit x et y deux vecteurs de même taille $n$:\n",
    "\n",
    "$x = \\begin{pmatrix}\n",
    "x_1 \\\\ x_2 \\\\ \\vdots \\\\ x_n\n",
    "\\end{pmatrix}, \\qquad\n",
    "y = \\begin{pmatrix}\n",
    "y_1 \\\\ y_2 \\\\ \\vdots \\\\ y_n\n",
    "\\end{pmatrix}\n",
    "$\n",
    "\n",
    "Chaque couple $(x_i,y_i)$ correspond à un point."
   ]
  },
  {
   "cell_type": "code",
   "execution_count": null,
   "metadata": {},
   "outputs": [],
   "source": [
    "x = np.linspace(-30,80,20) # 20 points entre -30 et 80\n",
    "y = x*x + 2*x              # la fonction a tracer\n",
    "                           # y fait des opérations de base sur x \n",
    "                           #   => y est de même taille que x\n",
    "\n",
    "plt.figure()               # creation d'une figure\n",
    "plt.scatter(x,y)           # affichage d'un nuage de points \n",
    "                           # = liste des couples (xi,yi)\n",
    "\n",
    "\n",
    "# Ajout d'informations (optionel)\n",
    "plt.title('Polynome')\n",
    "plt.xlabel('Axe des x')\n",
    "plt.ylabel('y=f(x)')\n",
    "\n",
    "plt.show()                 # parfois nécessaire en fonction des options déclarées à l'import\n"
   ]
  },
  {
   "cell_type": "code",
   "execution_count": null,
   "metadata": {},
   "outputs": [],
   "source": [
    "# Pour relier les points entre eux => plot\n",
    "plt.figure()     \n",
    "plt.plot(x,y1)\n",
    "plt.plot(x,y2)\n",
    "\n",
    "# Pour relier les points entre eux + option d'affichage => plot\n",
    "plt.figure()     \n",
    "plt.plot(x,y1, \"r+-\") # choix couleur + style\n",
    "plt.plot(x,y2, \"b--\")"
   ]
  },
  {
   "attachments": {},
   "cell_type": "markdown",
   "metadata": {},
   "source": [
    "### tracés multiples dans une fenêtre\n",
    "\n",
    "Il suffit de d'enchainer les appels après la création de la figure. L'example ci-dessous vous montre les avantages et inconvénients de la méthode.\n",
    "\n",
    "- POSITIF: la syntaxe est très simple, la bibliothèque ```matplotlib``` change de couleur d'affichage entre les appels pour plus de lisibilité.\n",
    "- NEGATIF: dans l'exemple, le polynome *écrase* la fonction racine"
   ]
  },
  {
   "cell_type": "code",
   "execution_count": null,
   "metadata": {},
   "outputs": [],
   "source": [
    "# deux informations à afficher: y1 et y2\n",
    "x  = np.linspace(0, 20, 30) # 30 points entre 0 et 20\n",
    "y1 = x*x + 2*x\n",
    "y2 = np.sqrt(x)\n",
    "\n",
    "plt.figure()     \n",
    "plt.scatter(x,y1)\n",
    "plt.scatter(x,y2)"
   ]
  },
  {
   "attachments": {},
   "cell_type": "markdown",
   "metadata": {},
   "source": [
    "### fonctions plus avancées\n",
    "\n",
    "En restant sur la liste de points précédentes $x,y$, il est possible de faire pas mal de choses différentes.\n",
    "\n",
    "1. On peut passer de ```scatter``` (=nuage de points) à ```plot```(=ligne entre les points)\n",
    "1. Ajout de légende, de sous fenêtres d'affichage...\n",
    "1. Maitrise du style (forme du tracé, couleur sous la forme d'un code lettre (r=red, b=blue, ...)"
   ]
  },
  {
   "cell_type": "code",
   "execution_count": null,
   "metadata": {},
   "outputs": [],
   "source": [
    "plt.figure()               # creation d'une figure\n",
    "plt.subplot(1,2,1)         # division de la fenetre en une matrice 1x2 \n",
    "                           #   + sélection case 1\n",
    "plt.plot(x,y1,'g--', label='$y = x^2+2x$') # $ pour du code mathématique latex\n",
    "                          # affichage de la courbe + style + etiquette\n",
    "plt.legend(loc=4)         # OPTION: localisation de la légende\n",
    "plt.subplot(1,2,2)\n",
    "plt.plot(x,y2, 'r*-', label='$y = \\sqrt{x}$')\n",
    "plt.legend(loc=2)          # affichage de la légende en haut a gauche\n",
    "plt.show()                 # affichage de la fenetre"
   ]
  },
  {
   "attachments": {},
   "cell_type": "markdown",
   "metadata": {},
   "source": [
    "### Option sur les nuages de points\n",
    "\n",
    "Il y a des options au niveau du tracé global... Et des options pour faire varier la couleur d'un point à l'autre.\n",
    "\n",
    "**Note:** toujours pas de code à ajouter, seulement des appels à comprendre."
   ]
  },
  {
   "cell_type": "code",
   "execution_count": null,
   "metadata": {},
   "outputs": [],
   "source": [
    "# commande basique = plot + options\n",
    "x = np.linspace(0,5,50)\n",
    "y = x*x + 2*x                                      # la fonction a tracer\n",
    "yb = y + np.random.randn(x.shape[0]) *3            # ajout de bruit\n",
    "\n",
    "plt.figure()                       # creation d'une figure\n",
    "plt.scatter(x,yb, c = np.abs(yb )) # jouer avec les couleurs des points du nuage\n",
    "                                   # couleur = hauteur\n",
    "\n",
    "plt.figure()                         \n",
    "plt.scatter(x,yb, c = np.abs(y- yb)) # jouer avec les couleurs des points du nuage\n",
    "                                     # couleur = niveau de bruit"
   ]
  },
  {
   "attachments": {},
   "cell_type": "markdown",
   "metadata": {},
   "source": [
    "## Affichage d'une matrice\n",
    "\n",
    "Dans le cadre du travail avec les librairies numpy et cie, nous manipulons des matrices pas évidentes à explorer. La meilleure solution est souvent de les afficher sous forme d'image.\n",
    "\n",
    "C'est un outil que l'on utilise beaucoup, il faut être à l'aise avec. Pour ajouter des informations, on recours à la modification des axes (2ème exemple)."
   ]
  },
  {
   "cell_type": "code",
   "execution_count": null,
   "metadata": {},
   "outputs": [],
   "source": [
    "C = np.random.rand(5,10)     # grosse matrice\n",
    "plt.figure()\n",
    "plt.imshow(C, interpolation='nearest')                # affichage sour forme d'image\n",
    "                             # les couleurs correspondent aux valeurs\n"
   ]
  },
  {
   "attachments": {},
   "cell_type": "markdown",
   "metadata": {},
   "source": [
    "### Option d'affichage sur ```imshow```\n",
    "\n",
    "L'option ```colorbar```, pour afficher l'échelle des couleurs utilisées est à ajouter presque tout le temps: il est essentiel de *comprendre* l'affichage\n",
    "\n",
    "Ajouter des informations sur les axes est complexe mais régulièrement indispensable.\n"
   ]
  },
  {
   "cell_type": "code",
   "execution_count": null,
   "metadata": {},
   "outputs": [],
   "source": [
    "# affichage avancé avec modification des axes\n",
    "\n",
    "fig, ax = plt.subplots(1,1)                  # pour avoir un pointeur vers les axes\n",
    "plt.imshow(C, interpolation='nearest')        # meme matrice que ci-dessus\n",
    "ax.set_xticks(np.arange(C.shape[1]))         # un texte pour chaque colonne\n",
    "txts = ['Champ 1', 'e2', 'lab 3', 'catégorie 4', 'Champ 5', 'e6', 'lab 7', 'c8', 'c9', 'c10']\n",
    "ax.set_xticklabels(txts,rotation=60,fontsize=8) # orientation du texte\n",
    "\n",
    "                             # les couleurs correspondent aux valeurs\n",
    "plt.colorbar()               # OPTION = legende \n"
   ]
  },
  {
   "attachments": {},
   "cell_type": "markdown",
   "metadata": {
    "collapsed": true
   },
   "source": [
    "## Sauvegarde des figures\n",
    "\n",
    "La sauvegarde des figures est essentielle pour:\n",
    "- la création de rapport\n",
    "- l'analyse détaillée de certaines zones qui nécessitent de zoomer plus efficacement que dans une interface jupyter\n",
    "\n",
    "Dans tous les cas, privilégiez un format de sauvegarde vectoriel qui permet donc des zooms à l'infini et une qualité meilleure dans les rapports"
   ]
  },
  {
   "cell_type": "code",
   "execution_count": null,
   "metadata": {
    "collapsed": true
   },
   "outputs": [],
   "source": [
    "plt.savefig('monfichier.pdf') # sauvegarde de l'image courant (c'est pour ça qu'il n'y a pas d'argument spécifique!)"
   ]
  },
  {
   "attachments": {},
   "cell_type": "markdown",
   "metadata": {},
   "source": [
    "## Affichage d'histogrammes \n",
    "\n",
    "Les histogrammes constituent un outil de base pour l'analyse de données, c'est finalement une des seules manières de *prendre contact* avec des données volumineuses.\n",
    "\n",
    "Etudions le fonctionnement de la méthode ```bar``` de ```matplotlib```.\n"
   ]
  },
  {
   "cell_type": "code",
   "execution_count": null,
   "metadata": {},
   "outputs": [],
   "source": [
    "notes = np.random.randint(0,21,200) # génération de 200 valeurs entre 0 et 20\n",
    "print(notes) # => Pour voir ce qu'il y a dedans... \n",
    "              # Mais c'est globalement ininterprétable.\n",
    "\n",
    "# construction d'un histogramme = comptage des valeurs\n",
    "histo  = np.zeros(21) # Attention 0 -> 20 = 21 valeurs\n",
    "for v in notes:\n",
    "        histo[v] += 1\n",
    "\n",
    "# affichage avec bar\n",
    "plt.figure()\n",
    "axe_x = np.arange(21)   # de 0 à 20 (inclus)\n",
    "plt.bar(axe_x, histo)   # hauteur des barres pour chaque note"
   ]
  },
  {
   "attachments": {},
   "cell_type": "markdown",
   "metadata": {},
   "source": [
    "## ... Et d'autres affichages\n",
    "\n",
    "Comme cette étape de prise en main des données est cruciale, multiplions les variations autour du même thème:\n",
    "- affichage de la crête de l'histogramme\n",
    "    - attention à l'échelle des $y$\n",
    "- regroupement des notes deux par deux"
   ]
  },
  {
   "cell_type": "code",
   "execution_count": null,
   "metadata": {},
   "outputs": [],
   "source": [
    "plt.figure()\n",
    "plt.plot(axe_x, histo)\n",
    "plt.title(\"Distribution des notes\") # vous noterez l'effet d'optique lié \n",
    "                                    # au resserrement de l'échelle y\n"
   ]
  },
  {
   "cell_type": "code",
   "execution_count": null,
   "metadata": {},
   "outputs": [],
   "source": [
    "plt.figure()\n",
    "plt.plot(axe_x, histo)\n",
    "plt.axis([0, 20, 0, histo.max() ]) # forcer les axes sur la plage de valeurs voulues\n",
    "plt.title(\"Distribution des notes\") "
   ]
  },
  {
   "attachments": {},
   "cell_type": "markdown",
   "metadata": {},
   "source": [
    "### Histogramme customisé\n",
    "\n",
    "**Difficulté 1:** refaire le comptage en comptant par intervalle\n",
    "- 11 catégories [0,2[,[2,4[, ...\n",
    "- compter combien il y a de notes dans chaque catégorie\n",
    "- Astuce: la note $x$ doit être comptabilisée dans la catégorie $x/2$... A condition d'arrondir (il n'y a pas d'indice réel).\n",
    "\n",
    "**Difficulté 2:** l'affichage n'est pas optimal, les barres ne sont pas assez larges. Nous allons étudier la documentation de la fonction ```bar```:\n",
    "https://matplotlib.org/stable/api/_as_gen/matplotlib.pyplot.bar.html\n",
    "\n",
    "Il est possible de changer la largeur des barres pour chaque barre... Mais nous gardons ça pour les exercices."
   ]
  },
  {
   "cell_type": "code",
   "execution_count": null,
   "metadata": {},
   "outputs": [],
   "source": [
    "# construction d'un second histogramme = comptage des valeurs 2 par 2\n",
    "histo2  = np.zeros(11)    # 11 catégories [0,2[,[2,4[, ... \n",
    "for v in notes:\n",
    "        histo2[v//2] += 1 # astuce: la note x doit être comptée dans la case d'indice x/2\n",
    "                          # difficulté de l'astuce: il faut arrondir les indices = division entière\n",
    "\n",
    "# affichage avec bar\n",
    "plt.figure()\n",
    "axe_x2 = np.arange(0,21,2)   # de 0 à 20 (inclus)\n",
    "plt.bar(axe_x2, histo2)      # hauteur des barres pour chaque note\n",
    "\n",
    "# affichage avec bar en gérant la largeur!\n",
    "plt.figure()\n",
    "axe_x2 = np.arange(0,21,2)   # de 0 à 20 (inclus)\n",
    "plt.bar(axe_x2, histo2, width=2, edgecolor='k')      # hauteur des barres pour chaque note\n"
   ]
  },
  {
   "attachments": {},
   "cell_type": "markdown",
   "metadata": {},
   "source": [
    "## bar *vs* histogramme\n",
    "\n",
    "Vous distinguerez bien les méthodes ```bar``` et ```plt.hist``` ou ```np.histogram```:\n",
    "- ```bar``` est une simple méthode d'affichage où vous devez donner les absisses et les hauteurs des barres associées.\n",
    "- ```hist``` est une méthode avancée qui calcule l'histogramme en plus de l'afficher\n",
    "    - c'est sur cette méthode que vous aller tomber dès que vous chercherez de la documentation sur internet...\n",
    "    - ... mais nous ne souhaitons pas utiliser cette méthode (au moins dans un premier temps) afin de bien comprendre le fonctionnement des histogrammes.\n",
    "\n",
    "Dans l'exemple précédent, les notes étaient stockées dans ```notes```:\n",
    "- pour utiliser ```bar```, nous avons du calculer ```histo``` à la main\n",
    "- vous pouvez utiliser ```plt.hist``` en vous servant de la documentation: https://matplotlib.org/stable/api/_as_gen/matplotlib.pyplot.hist.html\n",
    "    - cette fonction travaillera directement sur la variable ```notes``` (la définition des catégories et les comptages sont intégrés à la méthode).\n"
   ]
  },
  {
   "cell_type": "code",
   "execution_count": null,
   "metadata": {},
   "outputs": [],
   "source": [
    "plt.figure()\n",
    "plt.hist(notes, bins=10) # jouer avec le nombre d'intervalles est important!\n",
    "\n",
    "plt.figure()\n",
    "plt.hist(notes, bins=20)"
   ]
  },
  {
   "attachments": {},
   "cell_type": "markdown",
   "metadata": {},
   "source": [
    "## Sélection des points à afficher\n",
    "\n",
    "Combinaison d'usage entre les fonctions de recherche et les fonctions d'affichage"
   ]
  },
  {
   "cell_type": "code",
   "execution_count": null,
   "metadata": {},
   "outputs": [],
   "source": [
    "# génération des points de la classe 1 & 2\n",
    "N=100\n",
    "x = np.vstack((np.random.randn(N,2)+2,np.random.randn(N,2)-2)) # données gaussiennes 2D\n",
    "y = np.ones(2*N) # étiquettes\n",
    "y[:N] = -1\n",
    "\n",
    "# comment afficher chaque classe d'une couleur???\n",
    "\n",
    "# solution 1\n",
    "ind1 = np.where(y==1) \n",
    "ind2 = np.where(y==-1)\n",
    "plt.figure()\n",
    "plt.plot(x[ind1, 0],x[ind1, 1], 'b+') # aff en croix bleues\n",
    "plt.plot(x[ind2, 0],x[ind2, 1], 'r*') # aff en étoiles rouges\n",
    "plt.show()\n",
    "\n",
    "# solution 2: version en syntaxe rapide\n",
    "plt.figure()\n",
    "plt.plot(x[y==1, 0],x[y==1, 1], 'b+') # aff en croix bleues\n",
    "plt.plot(x[y==-1, 0],x[y==-1, 1], 'r*') # aff en étoiles rouges\n",
    "\n",
    "# solution 3: version scatter: le code couleur peut etre un chiffre dans scatter!\n",
    "plt.figure()\n",
    "plt.scatter(x[:,0], x[:,1], c=y)"
   ]
  },
  {
   "attachments": {},
   "cell_type": "markdown",
   "metadata": {
    "collapsed": true
   },
   "source": [
    "# <span style=\"color:red\">EXO(1) Prise en main des données IRIS </span>\n",
    "\n",
    "Les données iris sont un grand classique en machine learning: cet exercice consiste à prendre en main les données alors que vous ne les connaissez pas.\n",
    "\n",
    "* Compter les données et les descripteurs (i.e. les dimensions des données)\n",
    "* Compter les classes\n",
    "* Tracer les 2 premières dimensions de $X$ avec un code couleur pour $Y$\n"
   ]
  },
  {
   "cell_type": "code",
   "execution_count": null,
   "metadata": {},
   "outputs": [],
   "source": [
    "import sklearn.datasets\n",
    "\n",
    "data = sklearn.datasets.load_iris()\n",
    "x, y = data.data,data.target\n",
    "\n",
    "# <CORRECTION>\n",
    "print(x.shape, y.shape)\n",
    "print(np.unique(y))\n",
    "\n",
    "plt.scatter(x[:,0], x[:,1], c=y)\n",
    "# </CORRECTION>\n",
    "\n"
   ]
  },
  {
   "attachments": {},
   "cell_type": "markdown",
   "metadata": {},
   "source": [
    "## Scatter plot et code couleur & subplot\n",
    "\n",
    "Soit des données 2D (aléatoires)... Nous allons essayer de les colorer pour leur donner du sens.\n",
    "Nous allons aussi tracer les différentes versions dans des affichages cote à cote.\n",
    "\n",
    "\n",
    "1. Afficher un scatter plot où tous les points sont bleus\n",
    "1. Afficher un scatter plot où tous les points sont bleus \n",
    "    1. sauf ceux dont l'absisse est supérieure à 0.75 (à afficher en rouge)\n",
    "1. Afficher un scatter plot dont la couleur est *proportionnelle* à l'axe des ordonnées\n",
    "1. Afficher un scatter plot dont la couleur est *proportionnelle* à l'axe des ordonnées ET dont le rayon est proportionnel à l'axe des absisses\n",
    "\n",
    "** Documentation: ** https://matplotlib.org/stable/api/_as_gen/matplotlib.pyplot.scatter.html"
   ]
  },
  {
   "cell_type": "code",
   "execution_count": null,
   "metadata": {},
   "outputs": [],
   "source": [
    "X = np.random.rand(100,2)\n",
    "\n",
    "# print(X)\n",
    "\n",
    "# faire les affichages\n",
    "\n",
    "\n",
    "plt.figure(figsize=[12, 4])\n",
    "plt.subplot(1,3,1)\n",
    "plt.scatter(X[:,0], X[:,1])\n",
    "\n",
    "plt.subplot(1,3,2)\n",
    "plt.scatter(X[X[:,0]>0.75,0], X[X[:,0]>0.75,1], c='r')\n",
    "plt.scatter(X[X[:,0]<=0.75,0], X[X[:,0]<=0.75,1], c='b')\n",
    "\n",
    "plt.subplot(1,3,3)\n",
    "plt.scatter(X[:,0], X[:,1], c= X[:,0])\n",
    "plt.colorbar()\n"
   ]
  },
  {
   "cell_type": "code",
   "execution_count": null,
   "metadata": {},
   "outputs": [],
   "source": []
  },
  {
   "attachments": {},
   "cell_type": "markdown",
   "metadata": {},
   "source": [
    "# Fabrication du sujet à partir de la correction"
   ]
  },
  {
   "cell_type": "code",
   "execution_count": 1,
   "metadata": {},
   "outputs": [],
   "source": [
    "import re\n",
    "# transformation de cet énoncé en version étudiante\n",
    "\n",
    "fname = \"5_Affichage_matplotlib-corr.ipynb\" # ce fichier\n",
    "fout  = fname.replace(\"-corr\",\"\")\n",
    "\n",
    "# print(\"Fichier de sortie: \", fout )\n",
    "\n",
    "f = open(fname, \"r\")\n",
    "txt = f.read()\n",
    " \n",
    "f.close()\n",
    "\n",
    "\n",
    "f2 = open(fout, \"w\")\n",
    "f2.write(re.sub(\"<CORRECTION>.*?(</CORRECTION>)\",\" TODO \",\\\n",
    "    txt, flags=re.DOTALL))\n",
    "f2.close()\n",
    "\n"
   ]
  },
  {
   "cell_type": "code",
   "execution_count": null,
   "metadata": {},
   "outputs": [],
   "source": []
  }
 ],
 "metadata": {
  "kernelspec": {
   "display_name": "Python 3.9.7 ('base')",
   "language": "python",
   "name": "python3"
  },
  "language_info": {
   "codemirror_mode": {
    "name": "ipython",
    "version": 3
   },
   "file_extension": ".py",
   "mimetype": "text/x-python",
   "name": "python",
   "nbconvert_exporter": "python",
   "pygments_lexer": "ipython3",
   "version": "3.10.13"
  },
  "vscode": {
   "interpreter": {
    "hash": "902a52bcf4503a473db011f1937bdfe17613b08622219712e0110e48c4958c23"
   }
  }
 },
 "nbformat": 4,
 "nbformat_minor": 2
}
