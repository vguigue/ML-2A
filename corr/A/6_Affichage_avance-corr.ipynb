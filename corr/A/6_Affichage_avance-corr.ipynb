{
 "cells": [
  {
   "attachments": {},
   "cell_type": "markdown",
   "metadata": {},
   "source": [
    "# Tutoriel avancé sur les fonctions d'affichage\n",
    "\n",
    "Matplotlib permet de faire beaucoup d'affichages avancés. J'ai sélectionné les plus intéressants -parfois subjectivement-. Pour la liste exhaustive (et illustrée), c'est ici: [lien](https://matplotlib.org/stable/gallery/index.html)\n",
    "\n",
    "**Note 1:** Pour certains usages avancés autour des stats (1D et 2D), la plupart des utilisateurs passent par `seaborn` qui propose des choses clés en main très esthétiques: [lien](https://seaborn.pydata.org)\n",
    "\n",
    "**Note 2:** Matplotlib est nul en 3D (pas de z-buffer)... Mais matplotlib est tellement pratique qu'on l'utilise tout de même pour certains affichages !\n"
   ]
  },
  {
   "cell_type": "code",
   "execution_count": null,
   "metadata": {},
   "outputs": [],
   "source": [
    "import numpy as np\n",
    "import matplotlib.pyplot as plt\n",
    "# pour avoir toutes les options d'affichage\n",
    "# %matplotlib notebook\n",
    "# OU pour un affichage léger et rapide\n",
    "%matplotlib inline"
   ]
  },
  {
   "attachments": {},
   "cell_type": "markdown",
   "metadata": {},
   "source": [
    "## Boites à moustaches"
   ]
  },
  {
   "cell_type": "code",
   "execution_count": null,
   "metadata": {},
   "outputs": [],
   "source": [
    "\n",
    "# fake up some data\n",
    "spread = np.random.rand(50) * 100\n",
    "center = np.ones(25) * 50\n",
    "flier_high = np.random.rand(10) * 100 + 100\n",
    "flier_low = np.random.rand(10) * -100\n",
    "data = np.concatenate((spread, center, flier_high, flier_low))\n",
    "\n",
    "plt.figure()\n",
    "plt.title('Basic Plot')\n",
    "plt.boxplot(data)"
   ]
  },
  {
   "attachments": {},
   "cell_type": "markdown",
   "metadata": {},
   "source": [
    "## Intervalles de confiance\n",
    "\n",
    "Reprise directe du tuto matplotlib: l'idée est d'apprendre à remplir entre 2 courbes. Il est aussi possible d'utiliser les outils externes, en particulier de la bibliothèque `seaborn` pour faire des calculs de stats en même temps."
   ]
  },
  {
   "cell_type": "code",
   "execution_count": null,
   "metadata": {},
   "outputs": [],
   "source": [
    "\n",
    "N = 21\n",
    "x = np.linspace(0, 10, 11)\n",
    "y = [3.9, 4.4, 10.8, 10.3, 11.2, 13.1, 14.1,  9.9, 13.9, 15.1, 12.5]\n",
    "\n",
    "# alternative à scikit pour les algo les plus classiques => on va voir des choses plus avancées dans la suite\n",
    "a, b = np.polyfit(x, y, deg=1)\n",
    "y_est = a * x + b\n",
    "y_err = x.std() * np.sqrt(1/len(x) +\n",
    "                          (x - x.mean())**2 / np.sum((x - x.mean())**2)) # calcul à la main\n",
    "\n",
    "plt.figure()\n",
    "plt.plot(x, y_est, '-')\n",
    "plt.fill_between(x, y_est - y_err, y_est + y_err, alpha=0.2)\n",
    "plt.plot(x, y, 'o', color='tab:brown')"
   ]
  },
  {
   "cell_type": "code",
   "execution_count": null,
   "metadata": {},
   "outputs": [],
   "source": [
    "# usage avancé\n",
    "np.random.seed(0)\n",
    "\n",
    "# génération des données\n",
    "Nsteps = 500\n",
    "t = np.arange(Nsteps)\n",
    "mu = 0.002\n",
    "sigma = 0.01\n",
    "S = mu + sigma*np.random.randn(Nsteps) # random walk\n",
    "X = S.cumsum()\n",
    "\n",
    "# calcul des intervalles\n",
    "lower_bound = mu*t - sigma*np.sqrt(t)\n",
    "upper_bound = mu*t + sigma*np.sqrt(t)\n",
    "\n",
    "plt.figure() # = figure + récupération des identifiants\n",
    "plt.plot(t, X, lw=2, label='walker position')\n",
    "plt.plot(t, mu*t, lw=1, label='population mean', color='C0', ls='--')\n",
    "plt.fill_between(t, lower_bound, upper_bound, facecolor='C0', alpha=0.4,\n",
    "                label='1 sigma range')\n",
    "plt.legend(loc='upper left')\n",
    "\n",
    "# Trouver les indices de dépassement + colorier en rouge\n",
    "# \n",
    "plt.fill_between(t, upper_bound, X, where=X > upper_bound, fc='red', alpha=0.4)\n",
    "plt.fill_between(t, lower_bound, X, where=X < lower_bound, fc='red', alpha=0.4)\n",
    "plt.xlabel('num steps')\n",
    "plt.ylabel('position')\n",
    "plt.grid()"
   ]
  },
  {
   "attachments": {},
   "cell_type": "markdown",
   "metadata": {},
   "source": [
    "## Affichage de distributions\n",
    "\n",
    "En `seaborn` (pour vous obliger à installer et aller voir!)\n",
    "Et comme ce genre d'opération se passent en cascade, il va aussi vous falloir `pandas`... Et la structure de donnée associée, le `dataframe`.\n",
    "\n",
    "En deux mots: un `dataframe pandas` = une matrice `numpy` + nommage des colonnes. C'est donc du numpy avec une philosophie SQL. Pas besoin d'en savoir plus aujourd'hui, on pourra faire un tuto dédié à pandas si vous en avez besoin."
   ]
  },
  {
   "cell_type": "code",
   "execution_count": null,
   "metadata": {},
   "outputs": [],
   "source": [
    "import seaborn as sns\n",
    "import pandas as pd # il faut aussi pandas... pour utiliser seaborn :)\n",
    "from numpy.random import normal as norm\n",
    "\n",
    "# concatenation des données + ajout d'une étiquette\n",
    "x = np.concatenate((norm(40,20,57),norm(50,20,65), norm(20, 10, 42) ))  # 2 gaussiennes\n",
    "y = np.concatenate((np.ones(57),2*np.ones(65), 3*np.ones(42) )) \n",
    "\n",
    "# n'hésitez pas à demander... Je vous expliquerai rapidement les dataframes\n",
    "data = pd.DataFrame({\"x\":x, \"y\":y}) # construction d'un dataframe = nommage des colonnes\n",
    "\n",
    "print(data)\n",
    "\n",
    "plt.figure()\n",
    "sns.displot(data, x=\"x\", hue = \"y\", kind=\"kde\", bw_adjust=2, fill=True)\n"
   ]
  },
  {
   "attachments": {},
   "cell_type": "markdown",
   "metadata": {},
   "source": [
    "## Scatter + histogrammes\n",
    "\n",
    "De nouveau, on utilise souvent directement les outils de `seaborn` qui proposent de nombreuses options graphiques assez esthétiques... Mais dans ce tuto avancé, on voit comment ça marche *from scratch*.\n",
    "De nouveau, le tuto est directement tiré de celui de `matplotlib`"
   ]
  },
  {
   "cell_type": "code",
   "execution_count": null,
   "metadata": {},
   "outputs": [],
   "source": [
    "def scatter_hist(x, y, ax, ax_histx, ax_histy):\n",
    "    # no labels\n",
    "    ax_histx.tick_params(axis=\"x\", labelbottom=False)\n",
    "    ax_histy.tick_params(axis=\"y\", labelleft=False)\n",
    "\n",
    "    # the scatter plot:\n",
    "    ax.scatter(x, y)\n",
    "\n",
    "    # now determine nice limits by hand:\n",
    "    binwidth = 0.25\n",
    "    xymax = max(np.max(np.abs(x)), np.max(np.abs(y)))\n",
    "    lim = (int(xymax/binwidth) + 1) * binwidth\n",
    "\n",
    "    bins = np.arange(-lim, lim + binwidth, binwidth)\n",
    "    ax_histx.hist(x, bins=bins)\n",
    "    ax_histy.hist(y, bins=bins, orientation='horizontal')\n",
    "\n",
    "# some random data\n",
    "x = np.random.randn(1000)\n",
    "y = np.random.randn(1000)\n",
    "\n",
    "# Start with a square Figure.\n",
    "fig = plt.figure(figsize=(6, 6))\n",
    "# Add a gridspec with two rows and two columns and a ratio of 1 to 4 between\n",
    "# the size of the marginal axes and the main axes in both directions.\n",
    "# Also adjust the subplot parameters for a square plot.\n",
    "gs = fig.add_gridspec(2, 2,  width_ratios=(4, 1), height_ratios=(1, 4),\n",
    "                      left=0.1, right=0.9, bottom=0.1, top=0.9,\n",
    "                      wspace=0.05, hspace=0.05)\n",
    "# Create the Axes.\n",
    "ax = fig.add_subplot(gs[1, 0])\n",
    "ax_histx = fig.add_subplot(gs[0, 0], sharex=ax)\n",
    "ax_histy = fig.add_subplot(gs[1, 1], sharey=ax)\n",
    "# Draw the scatter plot and marginals.\n",
    "scatter_hist(x, y, ax, ax_histx, ax_histy)"
   ]
  },
  {
   "attachments": {},
   "cell_type": "markdown",
   "metadata": {},
   "source": [
    "## Feedback et interactions\n",
    "\n",
    "L'idéal est de passer par une autre bibliothèque, par exemple `bokeh` pour gérer facilement les interactions utilisateurs... Mais il est possible de le faire en matplotlib.\n",
    "\n",
    "**Ca ne marche pas dans Visual Studio Code (et je n'ai pas vérifié en jupyter + browser)**"
   ]
  },
  {
   "cell_type": "code",
   "execution_count": null,
   "metadata": {},
   "outputs": [],
   "source": [
    "fig, ax = plt.subplots()\n",
    "ax.plot(np.random.rand(10))\n",
    "\n",
    "def onclick(event):\n",
    "    print('%s click: button=%d, x=%d, y=%d, xdata=%f, ydata=%f' %\n",
    "          ('double' if event.dblclick else 'single', event.button,\n",
    "           event.x, event.y, event.xdata, event.ydata))\n",
    "\n",
    "cid = fig.canvas.mpl_connect('button_press_event', onclick)"
   ]
  },
  {
   "cell_type": "markdown",
   "metadata": {},
   "source": [
    "# Affichage 3D\n",
    "\n",
    "Organisation générale pour réaliser un tracé en 3D `(x,y,z)`, en se plaçant dans le cas où \n",
    "$z = f(x,y)$ avec \n",
    "\n",
    "1. Définir l'espace d'intérêt sur $x$ et $y$. e.g. $x\\in [0, 10]$, $y\\in [-3,3]$\n",
    "2. Construire une grille de points sur cet espace\n",
    "    - `linspace` (pour générer des points sur une dimension) + `meshgrid` pour en faire un maillage\n",
    "3. Evaluer la fonction sur la grille\n",
    "    - ATTENTION, il y a souvent des problèmes de dimension dans les matrices\n",
    "4. Afficher le résultat interpolé (c'est automatique !)\n",
    "    - `contour`, `contourf`, `plot_surface`, ...\n",
    "\n",
    "\n",
    "**Note:** dans la suite, on modifiera ces notations. Les entrées seront regroupées dans une matrice $X$ (ayant 2 colonnes pour stocker 2 séries d'observavtions correspondant respectivement aux anciens $(x,y)$) et on notera $f$, $Y$ ou $Z$ la troisième dimension."
   ]
  },
  {
   "cell_type": "code",
   "execution_count": null,
   "metadata": {},
   "outputs": [],
   "source": [
    "# 1. Définir l'espace d'intérêt sur $x$ et $y$. e.g. $x\\in [0, 10]$, $y\\in [-3,3]$\n",
    "\n",
    "N = 30 # nombre de points à créer pour mailler l'espace\n",
    "x = np.linspace(0,10,N)\n",
    "y = np.linspace(-3,3,N)\n",
    "\n",
    "plt.figure()\n",
    "plt.scatter(x,[0]*len(x))\n",
    "plt.scatter([0]*len(y),y)\n",
    "plt.legend([\"x\",\"y\"])\n"
   ]
  },
  {
   "cell_type": "code",
   "execution_count": null,
   "metadata": {},
   "outputs": [],
   "source": [
    "# 2. Construire une grille de points sur cet espace\n",
    "\n",
    "xgrid, ygrid = np.meshgrid(x,y) # generation de la grille... Mais attention aux dimensions\n",
    "\n",
    "plt.figure()\n",
    "plt.scatter(xgrid,ygrid)\n",
    "\n",
    "# mission accomplie... Mais on va avoir des soucis pour la raison suivante:\n",
    "print(xgrid.shape) # les points sont stockés sous forme de matrice :)\n"
   ]
  },
  {
   "cell_type": "code",
   "execution_count": null,
   "metadata": {},
   "outputs": [],
   "source": [
    "# 3. Evaluer la fonction sur la grille (v1)\n",
    "zgrid = 3 * xgrid  -5* ygrid # ça marche évidemment même sur des matrices...\n",
    "# dans un deuxième temps, c'est + rigolo de visualiser des gaussiennes:\n",
    "# xmu = [2, 6]\n",
    "# ymu = [-1, 2]\n",
    "# sig = 0.75\n",
    "# zgrid = np.sum([np.exp(-((xgrid-xmu[i])**2 + (ygrid-ymu[i])**2)/sig**2) for i in range(len(xmu))],0)\n",
    "\n",
    "# on pourrait même avoir un semblant d'affichage 3D en utilisant des couleurs:\n",
    "plt.figure()\n",
    "plt.scatter(xgrid, ygrid, c = zgrid)\n",
    "plt.colorbar()\n"
   ]
  },
  {
   "cell_type": "markdown",
   "metadata": {},
   "source": [
    "## <span style=\"color: red\"> EXO </span>\n",
    "\n",
    "Obtenir le même résultat que ci-dessus mais en utilisant mettant $x$ et $y$ dans une matrice $X$ de deux colonnes et en calculant matriciellement $Z = X@w$ avec $w=[3,-5]$"
   ]
  },
  {
   "cell_type": "code",
   "execution_count": null,
   "metadata": {},
   "outputs": [],
   "source": [
    "# 3. Evaluer la fonction sur la grille en calcul matriciel (v2)\n",
    "\n",
    "# i. remettre xgrid et ygrid en vecteur colonne\n",
    "# ii. concatener\n",
    "# iii. déclarer le vecteur de paramètre w avec les bonnes dimensions\n",
    "# iv. calculer Z et afficher\n",
    "\n",
    "# <CORRECTION>\n",
    "X = np.hstack((xgrid.reshape(-1,1), ygrid.reshape(-1,1)))\n",
    "print(X.shape)\n",
    "Z = X @ np.array([3,-5]).reshape(-1,1)\n",
    "plt.figure()\n",
    "plt.scatter(X[:,0], X[:,1], c = Z)\n",
    "plt.colorbar()\n",
    "# </CORRECTION>"
   ]
  },
  {
   "cell_type": "code",
   "execution_count": null,
   "metadata": {},
   "outputs": [],
   "source": [
    "# 4. Afficher le résultat interpolé (c'est automatique !)\n",
    "\n",
    "plt.figure()\n",
    "plt.contour(xgrid, ygrid, zgrid) # ligne de niveaux\n",
    "\n",
    "plt.figure()\n",
    "plt.contourf(xgrid, ygrid, zgrid) # + remplissage\n",
    "\n",
    "from matplotlib import cm\n",
    "\n",
    "plt.figure()\n",
    "fig, ax = plt.subplots(subplot_kw={\"projection\": \"3d\"})\n",
    "surf = ax.plot_surface(xgrid, ygrid, zgrid, cmap=cm.coolwarm,\n",
    "                       linewidth=0, antialiased=False)\n",
    "ax.view_init(elev=10., azim=60) # reglage du point de vue\n"
   ]
  },
  {
   "attachments": {},
   "cell_type": "markdown",
   "metadata": {},
   "source": [
    "# Fabrication du sujet à partir de la correction"
   ]
  },
  {
   "cell_type": "code",
   "execution_count": 1,
   "metadata": {},
   "outputs": [],
   "source": [
    "import re\n",
    "# transformation de cet énoncé en version étudiante\n",
    "\n",
    "fname = \"6_Affichage_avance-corr.ipynb\" # ce fichier\n",
    "fout  = fname.replace(\"-corr\",\"\")\n",
    "\n",
    "# print(\"Fichier de sortie: \", fout )\n",
    "\n",
    "f = open(fname, \"r\")\n",
    "txt = f.read()\n",
    " \n",
    "f.close()\n",
    "\n",
    "\n",
    "f2 = open(fout, \"w\")\n",
    "f2.write(re.sub(\"<CORRECTION>.*?(</CORRECTION>)\",\" TODO \",\\\n",
    "    txt, flags=re.DOTALL))\n",
    "f2.close()\n",
    "\n"
   ]
  },
  {
   "cell_type": "code",
   "execution_count": null,
   "metadata": {},
   "outputs": [],
   "source": []
  }
 ],
 "metadata": {
  "kernelspec": {
   "display_name": "Python 3.9.7 ('base')",
   "language": "python",
   "name": "python3"
  },
  "language_info": {
   "codemirror_mode": {
    "name": "ipython",
    "version": 3
   },
   "file_extension": ".py",
   "mimetype": "text/x-python",
   "name": "python",
   "nbconvert_exporter": "python",
   "pygments_lexer": "ipython3",
   "version": "3.9.7"
  },
  "vscode": {
   "interpreter": {
    "hash": "902a52bcf4503a473db011f1937bdfe17613b08622219712e0110e48c4958c23"
   }
  }
 },
 "nbformat": 4,
 "nbformat_minor": 2
}
