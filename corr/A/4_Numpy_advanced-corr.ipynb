{
 "cells": [
  {
   "cell_type": "markdown",
   "metadata": {},
   "source": [
    "# Trucs et astuces plus avancés en numpy\n",
    "\n",
    "Rechercher des valeurs et sélectionner des portions de matrices est un exercice récurrent en sciences des données. Apprenons à le faire de différentes manières.\n",
    "\n",
    "**Exercices** (marqués <span style=\"color:red\"> EXO</span>) Des exercices sont proposés régulièrement dans le notebook pour éviter *l'effet contemplatif* des exemples. Si vous maitrisez déjà les concepts de base et que les solutions vous semblent évidentes, n'héstiez pas à sauter des questions.\n",
    "\n",
    "Tous les exercices sont classés par ordre d'importance:  <span style=\"color:red\"> 1</span>=\"essentiel\", <span style=\"color:red\">2</span>=\"utile, <span style=\"color:red\">3</span>=\"optionnel et/ou avancé\""
   ]
  },
  {
   "cell_type": "code",
   "execution_count": null,
   "metadata": {},
   "outputs": [],
   "source": [
    "import numpy as np"
   ]
  },
  {
   "cell_type": "code",
   "execution_count": null,
   "metadata": {},
   "outputs": [],
   "source": [
    "a = np.random.randn(100,2)\n",
    "#print(a)\n",
    "# element de la matrice complète < 0.5\n",
    "index = np.where(a<0.5) # retourne les indices dans (I,J)\n",
    "                        # I: indice des lignes\n",
    "                        # J: indice des colonnes\n",
    "#print(index)\n",
    "# recherche dans une colonne\n",
    "index2 = np.where(a[:,0]<0.5)\n",
    "print(index2)\n",
    "# ajouter des print pour comprendre les entrées/sorties!"
   ]
  },
  {
   "cell_type": "markdown",
   "metadata": {},
   "source": [
    "**Attention au type de retour**\n",
    "\n",
    "Le type de `index` est sans surprise... Mais celui de `index2` est plus déroutant: il s'agit d'un tuple mais avec un seul champ rempli...\n",
    "Pour utiliser les indices extraits facilement, il faut donc faire:"
   ]
  },
  {
   "cell_type": "code",
   "execution_count": null,
   "metadata": {
    "collapsed": true
   },
   "outputs": [],
   "source": [
    "index2, = np.where(a[:,0]<0.5) # on ne s'intéresse qu'au premier membre retourné!\n",
    "# a[index2,:] = ..."
   ]
  },
  {
   "cell_type": "markdown",
   "metadata": {},
   "source": [
    "## Fonction de recherche en syntaxe légère\n"
   ]
  },
  {
   "cell_type": "code",
   "execution_count": null,
   "metadata": {},
   "outputs": [],
   "source": [
    "y = np.array([-1, -1, -1, 1, 1, 1])\n",
    "x = np.random.rand(6,2)\n",
    "\n",
    "print(y==-1)\n",
    "\n",
    "# sélection des 3 premières lignes de x\n",
    "print(x)\n",
    "print(y)\n",
    "print(x[y==-1])\n",
    "\n",
    "# contraintes logiques: \n",
    "#    - x et y doivent avoir la même taille\n",
    "#    - y doit être un vecteur\n",
    "\n",
    "# sélection des lignes de x qui commencent par un nombre > 0.5\n",
    "#print(x[x[:,0]>0.5])\n"
   ]
  },
  {
   "cell_type": "code",
   "execution_count": null,
   "metadata": {},
   "outputs": [],
   "source": [
    "# TODO : vérifier les dimension de la sélection, vérifier quelles lignes ont été sélectionnée avec des print\n",
    "\n"
   ]
  },
  {
   "cell_type": "markdown",
   "metadata": {},
   "source": [
    "## Transformation de matrice\n",
    "\n",
    "`np.where` permet de renvoyer une matrice transformée en ajoutant des arguments dans la méthode\n",
    "\n",
    "> `np.where(m > alpha, retour_si_vrai, retour_si_faux)`\n",
    "\n",
    "On peut se servir de cette syntaxe pour faire des comptages"
   ]
  },
  {
   "cell_type": "code",
   "execution_count": null,
   "metadata": {
    "collapsed": true
   },
   "outputs": [],
   "source": [
    "a = np.random.randn(100,2)\n",
    "# Mettre à zeros tous les éléments négatifs:\n",
    "b = np.where(a<0., 0., a)    # (clause, TODO if true, TODO if false)\n",
    "c = np.where(a<0., -1., 1.)  # Extraire le signe des éléments de a\n",
    "\n",
    "nb_elem_pos = np.where(a>0., 1, 0).sum() # construction d'une matrice binaire + somme = comptage"
   ]
  },
  {
   "cell_type": "markdown",
   "metadata": {},
   "source": [
    "## ATTENTION aux doubles clauses\n",
    "\n",
    "il y a un piège dans la priorité donnée aux opérations: il faut ajouter des parenthèses"
   ]
  },
  {
   "cell_type": "code",
   "execution_count": null,
   "metadata": {},
   "outputs": [],
   "source": [
    "# pour l'estimation d'une loi jointe entre a et b\n",
    "N = 100\n",
    "a = np.ceil(np.random.rand(N) * 10)   # entre 1 et 10\n",
    "b = np.round(np.random.rand(N))       # 0 ou 1\n",
    "np.where((a == 4) & (b==0), 1., 0.)   # OK\n",
    "# np.where( a == 4  &  b==0 , 1., 0.) # KO !!! => le & est prioritaire sur le == !!!"
   ]
  },
  {
   "cell_type": "markdown",
   "metadata": {},
   "source": [
    "# <span style=\"color:red\"> EXO(3) Exercice basique </span>\n",
    "\n",
    "Générer 1000 tirages selon une loi normale centrée réduite\n",
    " - Vérifier par comptage que la moitié (environ) des tirages est supérieure à 0\n",
    " - Vérifier que (environ) 2/3 des tirages sont compris entre entre moins l'écart-type et plus l'écart type"
   ]
  },
  {
   "cell_type": "code",
   "execution_count": null,
   "metadata": {
    "collapsed": true
   },
   "outputs": [],
   "source": [
    "# <CORRECTION>\n",
    "n= 1000\n",
    "x = np.random.randn(n)\n",
    "\n",
    "nsup0 = np.where(x>0, 1, 0).sum()\n",
    "nsig = np.where((x>-1) & (x<1), 1, 0).sum()\n",
    "\n",
    "print(n, nsup0, nsig)\n",
    "# </CORRECTION>"
   ]
  },
  {
   "cell_type": "markdown",
   "metadata": {},
   "source": [
    "# <span style=\"color:red\"> EXO(1) Comptage des erreurs </span>\n",
    "\n",
    "Soit $\\mathbf y\\in \\{0,1\\}^n$ les étiquettes associées à $n$ données et $\\mathbf yhat\\in \\{0,1\\}^n$ les sorties de votre modèle, calculer le taux de bonne classification de votre approche.\n",
    "\n",
    "$$Y = \\begin{pmatrix} y_0\\\\ \\vdots \\\\ y_n \\end{pmatrix} \\qquad  \\hat Y = \\begin{pmatrix} \\hat y_0\\\\ \\vdots \\\\\\hat y_n \\end{pmatrix} \\Rightarrow \\text{Combien de valeurs en commun dans les deux vecteurs?}\n",
    "                 $$\n",
    "\n",
    "\n",
    "Note: avant de chercher la réponse à la question, essayer de bien comprendre comment ont été générées les données, les appels de fonction ne sont pas triviaux."
   ]
  },
  {
   "cell_type": "code",
   "execution_count": null,
   "metadata": {},
   "outputs": [],
   "source": [
    "# generation arbitraire des données et des sorties\n",
    "n = 100\n",
    "y = np.ones(n)\n",
    "y[:n//2] = 0\n",
    "\n",
    "yhat = y.copy()\n",
    "yhat = np.where(np.random.random(n)<0.1, 1-yhat, yhat) # corruption de y par une bernoulli de paramètre 0.1\n",
    "\n",
    "# calculer le taux de bonne classification\n",
    "\n",
    "# <CORRECTION>\n",
    "nOK = np.where(y==yhat, 1, 0).sum()\n",
    "print(\"taux bonne classif :\",nOK/len(y))\n",
    "# </CORRECTION>"
   ]
  },
  {
   "cell_type": "markdown",
   "metadata": {},
   "source": [
    "# <span style=\"color:red\"> EXO(2) Comptage des erreurs bis [sorties d'un modèle probabiliste]</span>\n",
    "\n",
    "Soit $\\mathbf y\\in \\{0,1,2\\}^n$ les étiquettes de 3 classes associées à $n$ données et $\\mathbf p\\in [0,1]^{n\\times 3}$ les sorties de votre modèle probabiliste donnant la probabilité d'appartenance à chaque classe pour chaque individu, calculer le taux de bonne classification de votre approche.\n",
    "\n",
    "$$Y = \\begin{pmatrix} y_0\\\\ \\vdots \\\\ y_n \\end{pmatrix} \\qquad  P = \\begin{pmatrix}  P(y=0 | X=x_0) & P(y=1 | X=x_0) & P(y=2 | X=x_0)\\\\ \\vdots \\\\ P(y=0 | X=x_n) & P(y=1 | X=x_n) & P(y=2 | X=x_n) \\end{pmatrix}\n",
    "                 $$\n",
    "\n",
    "\n",
    "Note: avant de chercher la réponse à la question, essayer de bien comprendre comment ont été générées les données, les appels de fonction ne sont pas triviaux."
   ]
  },
  {
   "cell_type": "code",
   "execution_count": null,
   "metadata": {},
   "outputs": [],
   "source": [
    "n = 100\n",
    "y = np.random.randint(0,3,(n))\n",
    "\n",
    "p = np.random.rand(n,3)\n",
    "for i in range(len(p)): p[i,y[i]] += 0.5\n",
    "p /= p.sum(1).reshape(-1,1)\n",
    "\n",
    "print(y[:10]) # affichage des 10 premiers y\n",
    "print(p[:10])\n",
    "\n",
    "\n",
    "# <CORRECTION>\n",
    "yhat = np.argmax(p,1)\n",
    "\n",
    "nOK = np.where(y==yhat, 1, 0).sum()\n",
    "print(\"taux bonne classif :\",nOK/len(y))\n",
    "# </CORRECTION>"
   ]
  },
  {
   "cell_type": "markdown",
   "metadata": {},
   "source": [
    "# <span style=\"color:red\"> EXO(1) Statistiques par classes </span>\n",
    "\n",
    "Soit des données classiques en machine learning associant $n$ observations en 2 dimensions $X$ et une supervision $Y$ indiquant la classe de chaque point:\n",
    "\n",
    "$$X = \\begin{pmatrix}\n",
    "                x_{0,0}& x_{0,1} \\\\\n",
    "                \\vdots & \\vdots\\\\\n",
    "                x_{n,0} & x_{n,1} \n",
    "                \\end{pmatrix}, \\qquad  Y = \\begin{pmatrix} y_0\\\\ \\vdots \\\\ y_n \\end{pmatrix}\n",
    "                 $$\n",
    "\n",
    "Ces données sont représentées sur la figure ci-dessous (chaque ligne de la matrice $X$ correspond à un point de la figure):\n",
    "\n",
    "<img src=\"ressources/gauss.png\">\n",
    "\n",
    "La boite suivante permet de charger les données, vous répondrez ensuite aux questions suivantes:\n",
    "\n",
    "1. Compter les données\n",
    "1. Quels sont les codes utilisés pour les deux classes?\n",
    "1. Quelles sont les moyennes de chacune des deux classes (sans boucle `for`)?\n",
    "1. Quelles sont les valeurs mini et maxi sur chaque dimension de chacune des deux classes (toujours sans boucle `for`)?"
   ]
  },
  {
   "cell_type": "code",
   "execution_count": null,
   "metadata": {},
   "outputs": [],
   "source": [
    "import pickle as pkl\n",
    "# récupération des données:\n",
    "data = pkl.load(open(\"ressources/gauss.pkl\", \"rb\"))\n",
    "\n",
    "X,Y= data['X'],data['Y']\n",
    "\n",
    "# <CORRECTION>\n",
    "print(\"classes : \", np.unique(Y))\n",
    "\n",
    "print(\"stats de la classe 0 : \")\n",
    "print(X[Y==0].mean(0))\n",
    "print(X[Y==0].max(0))\n",
    "print(X[Y==0].min(0))\n",
    "\n",
    "print(\"stats de la classe 1 : \")\n",
    "print(X[Y==1].mean(0))\n",
    "print(X[Y==1].max(0))\n",
    "print(X[Y==1].min(0))\n",
    "\n",
    "# </CORRECTION>"
   ]
  },
  {
   "cell_type": "markdown",
   "metadata": {},
   "source": [
    "# Annexe (inutile pour le TP)\n",
    "\n",
    "Pour information"
   ]
  },
  {
   "cell_type": "code",
   "execution_count": null,
   "metadata": {},
   "outputs": [],
   "source": [
    "\n",
    "import sklearn.datasets as data\n",
    "import matplotlib.pyplot as plt\n",
    "import pickle as pkl\n",
    "\n",
    "X,Y = data.make_blobs(100, centers=[[-2, -1], [2, 2]])\n",
    "\n",
    "pkl.dump({'X':X,'Y':Y}, open(\"ressources/gauss.pkl\",\"wb\"))\n",
    "\n",
    "plt.figure()\n",
    "plt.scatter(X[:,0], X[:,1], c=Y)\n",
    "plt.savefig('ressources/gauss.png', facecolor='white')"
   ]
  },
  {
   "cell_type": "markdown",
   "metadata": {},
   "source": [
    "# Fabrication du sujet à partir de la correction"
   ]
  },
  {
   "cell_type": "code",
   "execution_count": 2,
   "metadata": {},
   "outputs": [],
   "source": [
    "import re\n",
    "# transformation de cet énoncé en version étudiante\n",
    "\n",
    "fname = \"4_Numpy_advanced-corr.ipynb\" # ce fichier\n",
    "fout  = fname.replace(\"-corr\",\"\")\n",
    "\n",
    "# print(\"Fichier de sortie: \", fout )\n",
    "\n",
    "f = open(fname, \"r\")\n",
    "txt = f.read()\n",
    " \n",
    "f.close()\n",
    "\n",
    "\n",
    "f2 = open(fout, \"w\")\n",
    "f2.write(re.sub(\"<CORRECTION>.*?(</CORRECTION>)\",\" TODO \",\\\n",
    "    txt, flags=re.DOTALL))\n",
    "f2.close()\n",
    "\n"
   ]
  },
  {
   "cell_type": "markdown",
   "metadata": {},
   "source": []
  }
 ],
 "metadata": {
  "kernelspec": {
   "display_name": "Python 3.9.7 ('base')",
   "language": "python",
   "name": "python3"
  },
  "language_info": {
   "codemirror_mode": {
    "name": "ipython",
    "version": 3
   },
   "file_extension": ".py",
   "mimetype": "text/x-python",
   "name": "python",
   "nbconvert_exporter": "python",
   "pygments_lexer": "ipython3",
   "version": "3.10.13"
  },
  "vscode": {
   "interpreter": {
    "hash": "902a52bcf4503a473db011f1937bdfe17613b08622219712e0110e48c4958c23"
   }
  }
 },
 "nbformat": 4,
 "nbformat_minor": 2
}
