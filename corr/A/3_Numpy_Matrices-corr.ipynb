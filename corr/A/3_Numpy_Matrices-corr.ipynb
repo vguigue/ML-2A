{
 "cells": [
  {
   "attachments": {},
   "cell_type": "markdown",
   "metadata": {},
   "source": [
    "# Calcul matriciel et pièges en numpy\n",
    "\n",
    "Un des principaux défauts de ```numpy``` (par rapport à des environnement comme Matlab par exemple) est la **différentiation entre les vecteurs et les matrices**... Cet aspect va poser de nombreux problèmes.\n",
    "\n",
    "Le second défaut réside dans le **dispatch dynamique**: python essaie de faire marcher les calculs, même quand les dimensions des matrices sont incompatibles... Ca fait gagner un peu de temps parfois... Et ça crée des bugs insurmontables d'autres fois.\n",
    "\n",
    "\n",
    "**Rappel:**\n",
    "\n",
    "Pour executer une cellule : Shift + Entrée\n",
    "\n",
    "**Exercices** (marqués <span style=\"color:red\"> EXO</span>) Des exercices sont proposés régulièrement dans le notebook pour éviter *l'effet contemplatif* des exemples. Si vous maitrisez déjà les concepts de base et que les solutions vous semblent évidentes, n'héstiez pas à sauter des questions.\n",
    "\n",
    "Tous les exercices sont classés par ordre d'importance:  <span style=\"color:red\"> 1</span>=\"essentiel\", <span style=\"color:red\">2</span>=\"utile, <span style=\"color:red\">3</span>=\"optionnel et/ou avancé\""
   ]
  },
  {
   "cell_type": "code",
   "execution_count": null,
   "metadata": {},
   "outputs": [],
   "source": [
    "import numpy as np"
   ]
  },
  {
   "attachments": {},
   "cell_type": "markdown",
   "metadata": {},
   "source": [
    "# Produit matriciel\n",
    "\n",
    "Il ne faut pas confondre le produit terme à terme, entre matrices de mêmes dimensions et le produit matriciel qui est un ensemble de produits scalaires. \n",
    "Dans le produit matriciel, le nombre de colonne de la première matrice doit correspondre au nombre de ligne de la seconde/\n",
    "\n",
    "\n",
    "<img src=\"./ressources/matrix_mult.png\" width=\"200px\">\n",
    "\n",
    "$$ {\\color {red}c_{{12}}}=\\sum _{{r=1}}^{2}a_{{1r}}b_{{r2}}=a_{{11}}b_{{12}}+a_{{12}}b_{{22}}$$\n",
    "\n",
    "$$ {\\color {blue}c_{{33}}}=\\sum _{{r=1}}^{2}a_{{3r}}b_{{r3}}=a_{{31}}b_{{13}}+a_{{32}}b_{{23}}$$"
   ]
  },
  {
   "cell_type": "code",
   "execution_count": null,
   "metadata": {},
   "outputs": [],
   "source": [
    "A = np.array([[0., 1], [2, 3], [4, 5], [6, 7]])\n",
    "B = np.array([[5., 4, 3], [2, 1, 0]])\n",
    "print(\"A=\",A,\"\\n B=\",B)\n",
    "\n",
    "# calcul de produit matriciel, par différents moyens\n",
    "C  = A@B # le plus clair (d'après moi)\n",
    "C2 = A.dot(B)\n",
    "\n",
    "print(C)"
   ]
  },
  {
   "cell_type": "code",
   "execution_count": null,
   "metadata": {},
   "outputs": [],
   "source": [
    "# test sur des matrices incompatibles (matriciel)\n",
    "\n",
    "A = np.array([[0., 1], [2, 3], [4, 5], [6, 7]])\n",
    "M = np.array([[0., 1], [2, 3], [4, 5]])\n",
    "\n",
    "print(A@M)"
   ]
  },
  {
   "cell_type": "code",
   "execution_count": null,
   "metadata": {},
   "outputs": [],
   "source": [
    "# et le produit terme à terme, uniquement entre matrices de même dimension\n",
    "\n",
    "A = np.array([[0., 1], [2, 3], [4, 5], [6, 7]])\n",
    "A2 = np.array([[1., 2], [2, 1], [1, 2], [2, 1]])\n",
    "\n",
    "print(A*A2)"
   ]
  },
  {
   "cell_type": "code",
   "execution_count": null,
   "metadata": {},
   "outputs": [],
   "source": [
    "# test sur des données incompatibles (terme à terme)\n",
    "\n",
    "C3 = A*B # Comprendre le message d'erreur (il va être récurrent !)"
   ]
  },
  {
   "cell_type": "markdown",
   "metadata": {},
   "source": [
    "### <span style=\"color:red\"> EXO (3) reprogrammer la multiplication matricielle </span>\n",
    "\n",
    "[plutot pour les étudiants qui ne sont pas familier avec le produit matriciel]"
   ]
  },
  {
   "cell_type": "code",
   "execution_count": null,
   "metadata": {},
   "outputs": [],
   "source": [
    "# soit les matrices (compatibles)\n",
    "A = np.array([[0., 1], [2, 3], [4, 5], [6, 7]])\n",
    "B = np.array([[5., 4, 3], [2, 1, 0]])\n",
    "\n",
    "# fonction de calcul matricielle\n",
    "def calc_mat(a, b):\n",
    "    # Construire la matrice c, résultat de la multiplication matricielle de a par b\n",
    "    # Construction \"à la main\", avec trois boucles for\n",
    "    # <CORRECTION>\n",
    "    c = np.zeros(a.shape[0], b.shape[1])\n",
    "    for i in range(a.shape[0]):\n",
    "        for j in range(b.shape[1]):\n",
    "            for k in range(a.shape[1]):\n",
    "                c[i,j] += a[i,k]*b[k,j]\n",
    "    return c\n",
    "    # </CORRECTION>\n",
    "\n",
    "# test\n",
    "print(\"REFERENCE\")\n",
    "print(A@B)\n",
    "print(\"NOUVELLE FONCTION\")\n",
    "print(calc_mat(A,B))"
   ]
  },
  {
   "attachments": {},
   "cell_type": "markdown",
   "metadata": {},
   "source": [
    "## Types de données"
   ]
  },
  {
   "cell_type": "code",
   "execution_count": null,
   "metadata": {},
   "outputs": [],
   "source": [
    "# Les commandes ci-dessous créent des vecteurs\n",
    "\n",
    "v1=np.random.rand(10)\n",
    "v2=np.array([1, 4, 18])\n",
    "v3=np.ones(12)\n",
    "\n",
    "print(v1.shape)"
   ]
  },
  {
   "cell_type": "code",
   "execution_count": null,
   "metadata": {},
   "outputs": [],
   "source": [
    "# Les commandes ci-dessous créent des matrices\n",
    "\n",
    "m1=np.random.rand(10,2)\n",
    "m2=np.array([[1, 4, 18],[2, 4, 6]])\n",
    "m3=np.ones((12,2))\n",
    "\n",
    "print(m1.shape)"
   ]
  },
  {
   "cell_type": "code",
   "execution_count": null,
   "metadata": {},
   "outputs": [],
   "source": [
    "# Cas limite\n",
    "# attention, ces deux objets ne vont pas avoir le même comportement selon les fonctions utilisées\n",
    "\n",
    "v2 = np.array([1, 4, 18])\n",
    "# et \n",
    "m2 = np.array([[1, 4, 18]])\n",
    "\n",
    "print(\"v2 et m2 ne sont pas du même type: \", v2.shape, m2.shape)\n",
    "\n",
    "tv2 = np.ones((3, 3))@v2\n",
    "print(tv2) # il prend le vecteur en colonne => OK\n",
    "tv2_bis = v2@np.ones((3, 3))\n",
    "print(tv2_bis) # il prend le vecteur en ligne => OK\n",
    "tm2 = np.ones((3, 3))@m2\n",
    "print(tm2) # les dimensions sont incompatibles (pas de degré de liberté quand les dimensions sont fixées)\n"
   ]
  },
  {
   "cell_type": "code",
   "execution_count": null,
   "metadata": {},
   "outputs": [],
   "source": [
    "# extraire une ligne ou une colonne => générer un vecteur (et pas une matrice)\n",
    "# => nous sommes obligé de jongler avec les types de données\n",
    "\n",
    "m1 = np.random.rand(10,3)\n",
    "v4 = m1[:,1]   # extraction d'une colonne => vecteur\n",
    "m4 = m1[:,1:3] # extraction de deux colonnes => matrice\n",
    "x1 = m1[:,1:2] # extraction d'une seule colonnes, mais en syntaxe matricielle => ???\n",
    "\n",
    "print(v4.shape, m4.shape)\n",
    "print(x1.shape) # => matrice !!"
   ]
  },
  {
   "attachments": {},
   "cell_type": "markdown",
   "metadata": {},
   "source": [
    "### Pourquoi ces différences de types posent problème?"
   ]
  },
  {
   "cell_type": "code",
   "execution_count": null,
   "metadata": {},
   "outputs": [],
   "source": [
    "A     = np.array([[0., 1], [2, 3], [4, 5], [6, 7]])\n",
    "B_col = np.array([[1.], [2]]) # matrice (=en forme de vecteur colonne)\n",
    "B_li  = np.array([[1., 2]])   # matrice (=en forme de vecteur ligne)\n",
    "B_vec = np.array([1., 2])     # vecteur\n",
    "\n",
    "# print(A@B_li) # KO pour les dimensions => raisonnable, mais attention aux versions de python\n",
    "print(A@B_col)\n",
    "print(A@B_vec) # les résultats n'ont pas les mêmes dimensions\n",
    "print(A.dot(B_col))\n",
    "print(A.dot(B_vec)) # les résultats n'ont pas les mêmes dimensions\n",
    "\n",
    "print(\"\\n\")\n",
    "\n",
    "# print(A*B_col) # Erreur => c'est logique\n",
    "print(A*B_li)    # Catastrophe => ca ne fait pas d'erreur\n",
    "print(A*B_vec)   # Catastrophe => ca ne fait pas d'erreur"
   ]
  },
  {
   "cell_type": "code",
   "execution_count": null,
   "metadata": {},
   "outputs": [],
   "source": [
    "B_col = np.array([[1.], [2]]) # matrice (=en forme de vecteur colonne)\n",
    "B_li  = np.array([[1., 2]])   # matrice (=en forme de vecteur ligne)\n",
    "B_vec = np.array([1., 2])     #\n",
    "\n",
    "print(B_li@B_col) # le calcul est propre... Et renvoie une matrice\n",
    "# print(B_li@B_li)  # KO\n",
    "print(B_vec@B_vec) # produit scalaire\n",
    "print(B_vec@B_col) # renvoie un vecteur\n"
   ]
  },
  {
   "cell_type": "code",
   "execution_count": null,
   "metadata": {},
   "outputs": [],
   "source": [
    "# tentons dans l'autre sens\n",
    "# \n",
    "print(B_col @ B_li) # renvoie une matrice (OK)\n",
    "# print(B_col @ B_vec) # KO : alors qu'on  voudrait intuitivement que ça marche\n",
    "print(B_vec * B_li) # OK\n",
    "print(B_vec * B_col) # => WAOUH , carrement n'importe quoi !!"
   ]
  },
  {
   "attachments": {},
   "cell_type": "markdown",
   "metadata": {},
   "source": [
    "## Dispatch dynamique\n",
    "\n",
    "Beaucoup de comportements étranges sont liés à cette fonctionnalité. Partons d'un exemple simple et étudions les différentes solutions pratiques:\n",
    "\n",
    "    # Soit la matrice A:\n",
    "    A = np.array([[0., 1], [2, 3], [4, 5], [6, 7]])\n",
    "    # Je souhaite multiplier chaque ligne par le vecteur [1,2]"
   ]
  },
  {
   "cell_type": "code",
   "execution_count": null,
   "metadata": {},
   "outputs": [],
   "source": [
    "# Soit la matrice A:\n",
    "A = np.array([[0., 1], [2, 3], [4, 5], [6, 7]])\n",
    "\n",
    "# Je souhaite multiplier chaque ligne par le vecteur [1,2]\n"
   ]
  },
  {
   "cell_type": "code",
   "execution_count": null,
   "metadata": {},
   "outputs": [],
   "source": [
    "# solution 1: developpeur standard avec des boucles\n",
    "\n",
    "B = A.copy()\n",
    "for ligne in B:\n",
    "    ligne *= [1,2]\n",
    "print(B)"
   ]
  },
  {
   "cell_type": "code",
   "execution_count": null,
   "metadata": {},
   "outputs": [],
   "source": [
    "# solution 2: raisonnement matriciel, je veux juste multiplier la seconde colonne\n",
    "B = A.copy()\n",
    "B[:,1] *= 2\n",
    "print(B)"
   ]
  },
  {
   "cell_type": "code",
   "execution_count": null,
   "metadata": {},
   "outputs": [],
   "source": [
    "# solution 3: je crée une matrice pour ensuite faire une multiplication terme à terme\n",
    "\n",
    "M = np.ones((4,2))\n",
    "M[:,1] *= 2\n",
    "B = A*M\n",
    "print(B)"
   ]
  },
  {
   "cell_type": "code",
   "execution_count": null,
   "metadata": {},
   "outputs": [],
   "source": [
    "# solution 4: dispatch dynamique\n",
    "# ça ne devrait pas marcher... MAIS\n",
    "#   1. python détecte que le nb de colonne est compatible\n",
    "#   2. python applique l'opération sur chaque ligne automatiquement\n",
    "#   => pratique... Mais risqué: il faut connaitre ce truc pour détecter les bugs associés\n",
    "\n",
    "B = A * [1,2]\n",
    "print(B)"
   ]
  },
  {
   "cell_type": "code",
   "execution_count": null,
   "metadata": {},
   "outputs": [],
   "source": [
    "# pour faire la même chose sur les colonnes\n",
    "# à multiplier par [1, 2, 3, 4]\n",
    "\n",
    "B = A * [[1],[2],[3],[4]] # il faut présenter un vecteur colonne \n",
    "print(B)"
   ]
  },
  {
   "attachments": {},
   "cell_type": "markdown",
   "metadata": {},
   "source": [
    "## <span style=\"color:red\"> EXO produit divers</span>\n",
    "\n",
    "Soit une matrice de dimension $(n,d)$ remplie de 1. Chercher la formule qui permet de passer à une matrice $[1,2,...,d]$ répété respectivement sur les lignes ou les colonnes:\n",
    "\n",
    "$ M = \\begin{pmatrix}\n",
    "1 & 1 & \\ldots &1 \\\\\n",
    "1 & 1 & \\ldots & 1 \\\\\n",
    "\\vdots &  \\vdots & \\ddots & \\vdots \\\\\n",
    "1 & 1 & \\ldots & 1 \\\\\n",
    "\\end{pmatrix} \n",
    "\\Rightarrow \n",
    "\\begin{pmatrix}\n",
    "1 & 2 & \\ldots &d \\\\\n",
    "1 & 2 & \\ldots & d \\\\\n",
    "\\vdots &  \\vdots & \\ddots & \\vdots \\\\\n",
    "1 & 2 & \\ldots & d \\\\\n",
    "\\end{pmatrix} \\text{ ou }\n",
    "\\begin{pmatrix}\n",
    "1 & 1 & \\ldots &1 \\\\\n",
    "2 & 2 & \\ldots & 2 \\\\\n",
    "\\vdots &  \\vdots & \\ddots & \\vdots \\\\\n",
    "n & n & \\ldots & n \\\\\n",
    "\\end{pmatrix}$"
   ]
  },
  {
   "cell_type": "code",
   "execution_count": null,
   "metadata": {},
   "outputs": [],
   "source": []
  },
  {
   "attachments": {},
   "cell_type": "markdown",
   "metadata": {},
   "source": [
    "## <span style=\"color:red\"> EXO Evaluation d'une fonction linéaire</span>\n",
    "\n",
    "Soit une matrice $X$ de dimension $(n,d)$ stockant $n$ échantillon $\\mathbf x_i \\in \\mathbb R^d$ et un vecteur de paramètres $w \\in \\mathbb R^d$, \n",
    "\n",
    "$ X = \\begin{pmatrix}\n",
    "x_{11} & x_{12} & \\ldots & x_{1d} \\\\\n",
    "x_{21} & x_{22} & \\ldots & x_{2d} \\\\\n",
    "\\vdots &  \\vdots & \\ddots & \\vdots \\\\\n",
    "x_{n1} & x_{n2} & \\ldots & x_{nd} \\\\\n",
    "\\end{pmatrix} \n",
    "\\qquad\n",
    "W = \\begin{pmatrix}\n",
    "w_{1} & w_{2} & \\ldots & w_{d} \n",
    "\\end{pmatrix} \n",
    "$\n",
    "\n",
    "Calculer l'ensemble : $\\forall i, f(\\mathbf x_i) = \\sum_{j=1}^d x_{ij} w_j $\n",
    "Cet ensemble sera stocké dans un vecteur."
   ]
  },
  {
   "cell_type": "code",
   "execution_count": null,
   "metadata": {},
   "outputs": [],
   "source": [
    "n = 100\n",
    "d = 10\n",
    "X = np.random.rand(n,d)\n",
    "W = np.arange(d)"
   ]
  },
  {
   "cell_type": "code",
   "execution_count": null,
   "metadata": {},
   "outputs": [],
   "source": []
  },
  {
   "attachments": {},
   "cell_type": "markdown",
   "metadata": {},
   "source": [
    "# Construction du sujet à partir de la correction"
   ]
  },
  {
   "cell_type": "code",
   "execution_count": 1,
   "metadata": {},
   "outputs": [],
   "source": [
    "### <CORRECTION> ###\n",
    "import re\n",
    "# transformation de cet énoncé en version étudiante\n",
    "\n",
    "fname = \"3_Numpy_Matrices-corr.ipynb\" # ce fichier\n",
    "fout  = fname.replace(\"-corr\",\"\")\n",
    "\n",
    "# print(\"Fichier de sortie: \", fout )\n",
    "\n",
    "f = open(fname, \"r\")\n",
    "txt = f.read()\n",
    " \n",
    "f.close()\n",
    "\n",
    "\n",
    "f2 = open(fout, \"w\")\n",
    "f2.write(re.sub(\"<CORRECTION>.*?(</CORRECTION>)\",\" TODO \",\\\n",
    "    txt, flags=re.DOTALL))\n",
    "f2.close()\n",
    "\n",
    "### </CORRECTION> ###"
   ]
  },
  {
   "cell_type": "code",
   "execution_count": null,
   "metadata": {},
   "outputs": [],
   "source": []
  }
 ],
 "metadata": {
  "kernelspec": {
   "display_name": "Python 3.9.7 ('base')",
   "language": "python",
   "name": "python3"
  },
  "language_info": {
   "codemirror_mode": {
    "name": "ipython",
    "version": 3
   },
   "file_extension": ".py",
   "mimetype": "text/x-python",
   "name": "python",
   "nbconvert_exporter": "python",
   "pygments_lexer": "ipython3",
   "version": "3.10.13"
  },
  "vscode": {
   "interpreter": {
    "hash": "902a52bcf4503a473db011f1937bdfe17613b08622219712e0110e48c4958c23"
   }
  }
 },
 "nbformat": 4,
 "nbformat_minor": 2
}
